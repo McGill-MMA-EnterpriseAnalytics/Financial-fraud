{
  "cells": [
    {
      "cell_type": "markdown",
      "metadata": {},
      "source": [
        "# **Final Stacking Model**\n",
        "\n",
        "* Input files: prepared_data.csv, catboost_precision.joblib, best_tabnet.zip"
      ]
    },
    {
      "cell_type": "code",
      "execution_count": 1,
      "metadata": {
        "id": "hbmXDWmZf1pO"
      },
      "outputs": [],
      "source": [
        "import joblib\n",
        "from pytorch_tabnet.tab_model import TabNetClassifier\n",
        "from catboost import CatBoostClassifier\n",
        "\n",
        "import pandas as pd\n",
        "import numpy as np\n",
        "from sklearn.model_selection import train_test_split\n",
        "from sklearn.linear_model import LogisticRegression\n",
        "from sklearn.metrics import average_precision_score, classification_report, precision_recall_curve\n",
        "import matplotlib.pyplot as plt"
      ]
    },
    {
      "cell_type": "code",
      "execution_count": 2,
      "metadata": {
        "id": "lVwimv-QgBdO"
      },
      "outputs": [],
      "source": [
        "df = pd.read_csv('prepared_data.csv')\n",
        "\n",
        "# Define independent (X) and dependent (y) variables\n",
        "X = df.drop(columns=['Target'])  # Drop the target column\n",
        "y = df['Target']  # Target variable\n",
        "\n",
        "# Stratified train test split\n",
        "X_train, X_test, y_train, y_test = train_test_split(X, y , test_size=0.2, stratify=y, shuffle=True, random_state=42)"
      ]
    },
    {
      "cell_type": "code",
      "execution_count": 3,
      "metadata": {
        "colab": {
          "base_uri": "https://localhost:8080/"
        },
        "id": "WQNqP6acfH4o",
        "outputId": "ee789314-07eb-4509-e90e-1cf14d522552"
      },
      "outputs": [
        {
          "name": "stderr",
          "output_type": "stream",
          "text": [
            "c:\\Users\\Arial\\anaconda3\\Lib\\site-packages\\pytorch_tabnet\\abstract_model.py:82: UserWarning: Device used : cpu\n",
            "  warnings.warn(f\"Device used : {self.device}\")\n",
            "c:\\Users\\Arial\\anaconda3\\Lib\\site-packages\\pytorch_tabnet\\abstract_model.py:454: FutureWarning: You are using `torch.load` with `weights_only=False` (the current default value), which uses the default pickle module implicitly. It is possible to construct malicious pickle data which will execute arbitrary code during unpickling (See https://github.com/pytorch/pytorch/blob/main/SECURITY.md#untrusted-models for more details). In a future release, the default value for `weights_only` will be flipped to `True`. This limits the functions that could be executed during unpickling. Arbitrary objects will no longer be allowed to be loaded via this mode unless they are explicitly allowlisted by the user via `torch.serialization.add_safe_globals`. We recommend you start setting `weights_only=True` for any use case where you don't have full control of the loaded file. Please open an issue on GitHub for any issues related to this experimental feature.\n",
            "  saved_state_dict = torch.load(f, map_location=self.device)\n"
          ]
        }
      ],
      "source": [
        "# Load CatBoost model\n",
        "catboost_model = joblib.load(\"catboost_precision.joblib\")\n",
        "\n",
        "# Load TabNet model\n",
        "tabnet_model = TabNetClassifier()\n",
        "tabnet_model.load_model(\"best_tabnet.zip\")"
      ]
    },
    {
      "cell_type": "code",
      "execution_count": null,
      "metadata": {
        "colab": {
          "base_uri": "https://localhost:8080/",
          "height": 564
        },
        "id": "rPIH_qjLf5UJ",
        "outputId": "ecba9fab-9ad2-498e-a85d-7f6924f40eb8"
      },
      "outputs": [
        {
          "data": {
            "image/png": "[encoded data removed]",
            "text/plain": [
              "<Figure size 800x600 with 1 Axes>"
            ]
          },
          "metadata": {},
          "output_type": "display_data"
        }
      ],
      "source": [
        "# Get predictions (probabilities)\n",
        "tabnet_preds = tabnet_model.predict_proba(X_test.values)[:, 1]\n",
        "catboost_preds = catboost_model.predict_proba(X_test.values)[:, 1]\n",
        "\n",
        "# Stack the predictions as new features\n",
        "X_meta = np.column_stack((tabnet_preds, catboost_preds))\n",
        "\n",
        "# Train meta-learner using validation data\n",
        "meta_model = LogisticRegression()\n",
        "meta_model.fit(X_meta, y_test.values)\n",
        "\n",
        "# Get final stacked predictions\n",
        "meta_preds_proba = meta_model.predict_proba(X_meta)[:, 1]\n",
        "meta_preds = (meta_preds_proba > 0.5).astype(int)\n",
        "\n",
        "# Compute precision-recall curve\n",
        "precision, recall, thresholds = precision_recall_curve(y_test, meta_preds_proba)\n",
        "\n",
        "# Plot precision-recall curve\n",
        "plt.figure(figsize=(8, 6))\n",
        "plt.plot(recall, precision, color='blue', lw=2)\n",
        "plt.xlabel('Recall')\n",
        "plt.ylabel('Precision')\n",
        "plt.title('Precision-Recall Curve of Stacking Model')\n",
        "plt.show()"
      ]
    },
    {
      "cell_type": "code",
      "execution_count": 6,
      "metadata": {},
      "outputs": [
        {
          "name": "stdout",
          "output_type": "stream",
          "text": [
            "Best Threshold: 0.5122859058345007\n",
            "              precision    recall  f1-score   support\n",
            "\n",
            "           0       1.00      1.00      1.00   1780327\n",
            "           1       0.70      0.44      0.54      2666\n",
            "\n",
            "    accuracy                           1.00   1782993\n",
            "   macro avg       0.85      0.72      0.77   1782993\n",
            "weighted avg       1.00      1.00      1.00   1782993\n",
            "\n",
            "Average Precision Score: 0.5408854074708652\n"
          ]
        }
      ],
      "source": [
        "# Calculate F1 scores for different thresholds\n",
        "f1_scores = 2 * (precision * recall) / (precision + recall)\n",
        "\n",
        "# Find the best threshold based on F1 score\n",
        "best_threshold = thresholds[f1_scores.argmax()]\n",
        "\n",
        "# Print the best threshold\n",
        "print(\"Best Threshold:\", best_threshold)\n",
        "\n",
        "# Apply the best threshold for classification\n",
        "meta_pred_adj = (meta_preds_proba >= best_threshold).astype(int)\n",
        "\n",
        "# Evaluate the performance\n",
        "print(classification_report(y_test.values, meta_pred_adj))\n",
        "print(\"Average Precision Score:\", average_precision_score(y_test.values, meta_preds_proba))"
      ]
    },
    {
      "cell_type": "code",
      "execution_count": 7,
      "metadata": {},
      "outputs": [
        {
          "data": {
            "text/html": [
              "<div>\n",
              "<style scoped>\n",
              "    .dataframe tbody tr th:only-of-type {\n",
              "        vertical-align: middle;\n",
              "    }\n",
              "\n",
              "    .dataframe tbody tr th {\n",
              "        vertical-align: top;\n",
              "    }\n",
              "\n",
              "    .dataframe thead th {\n",
              "        text-align: right;\n",
              "    }\n",
              "</style>\n",
              "<table border=\"1\" class=\"dataframe\">\n",
              "  <thead>\n",
              "    <tr style=\"text-align: right;\">\n",
              "      <th></th>\n",
              "      <th>TabNet</th>\n",
              "      <th>CatBoost</th>\n",
              "    </tr>\n",
              "  </thead>\n",
              "  <tbody>\n",
              "    <tr>\n",
              "      <th>coeff</th>\n",
              "      <td>3.898031</td>\n",
              "      <td>5.082586</td>\n",
              "    </tr>\n",
              "  </tbody>\n",
              "</table>\n",
              "</div>"
            ],
            "text/plain": [
              "         TabNet  CatBoost\n",
              "coeff  3.898031  5.082586"
            ]
          },
          "execution_count": 7,
          "metadata": {},
          "output_type": "execute_result"
        }
      ],
      "source": [
        "coeffs = pd.DataFrame(meta_model.coef_, columns=[\"TabNet\", \"CatBoost\"], index=[\"coeff\"])\n",
        "coeffs"
      ]
    }
  ],
  "metadata": {
    "accelerator": "GPU",
    "colab": {
      "gpuType": "T4",
      "machine_shape": "hm",
      "provenance": []
    },
    "kernelspec": {
      "display_name": "base",
      "language": "python",
      "name": "python3"
    },
    "language_info": {
      "codemirror_mode": {
        "name": "ipython",
        "version": 3
      },
      "file_extension": ".py",
      "mimetype": "text/x-python",
      "name": "python",
      "nbconvert_exporter": "python",
      "pygments_lexer": "ipython3",
      "version": "3.12.3"
    }
  },
  "nbformat": 4,
  "nbformat_minor": 0
}
