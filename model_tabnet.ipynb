{
  "cells": [
    {
      "cell_type": "markdown",
      "metadata": {
        "id": "SUi7pnA_lieu"
      },
      "source": [
        "### **Importing Libraries**"
      ]
    },
    {
      "cell_type": "code",
      "execution_count": 59,
      "metadata": {
        "colab": {
          "base_uri": "https://localhost:8080/"
        },
        "id": "R4imrJ7j8kub",
        "outputId": "778e809b-b2cd-459a-ef2d-e6d19cfb1fbe"
      },
      "outputs": [
        {
          "name": "stdout",
          "output_type": "stream",
          "text": [
            "Requirement already satisfied: pytorch_tabnet in /usr/local/lib/python3.11/dist-packages (4.1.0)\n",
            "Requirement already satisfied: torch_geometric in /usr/local/lib/python3.11/dist-packages (2.6.1)\n",
            "Collecting optuna\n",
            "  Downloading optuna-4.2.1-py3-none-any.whl.metadata (17 kB)\n",
            "Requirement already satisfied: numpy>=1.17 in /usr/local/lib/python3.11/dist-packages (from pytorch_tabnet) (1.26.4)\n",
            "Requirement already satisfied: scikit_learn>0.21 in /usr/local/lib/python3.11/dist-packages (from pytorch_tabnet) (1.6.1)\n",
            "Requirement already satisfied: scipy>1.4 in /usr/local/lib/python3.11/dist-packages (from pytorch_tabnet) (1.13.1)\n",
            "Requirement already satisfied: torch>=1.3 in /usr/local/lib/python3.11/dist-packages (from pytorch_tabnet) (2.5.1+cu124)\n",
            "Requirement already satisfied: tqdm>=4.36 in /usr/local/lib/python3.11/dist-packages (from pytorch_tabnet) (4.67.1)\n",
            "Requirement already satisfied: aiohttp in /usr/local/lib/python3.11/dist-packages (from torch_geometric) (3.11.12)\n",
            "Requirement already satisfied: fsspec in /usr/local/lib/python3.11/dist-packages (from torch_geometric) (2024.10.0)\n",
            "Requirement already satisfied: jinja2 in /usr/local/lib/python3.11/dist-packages (from torch_geometric) (3.1.5)\n",
            "Requirement already satisfied: psutil>=5.8.0 in /usr/local/lib/python3.11/dist-packages (from torch_geometric) (5.9.5)\n",
            "Requirement already satisfied: pyparsing in /usr/local/lib/python3.11/dist-packages (from torch_geometric) (3.2.1)\n",
            "Requirement already satisfied: requests in /usr/local/lib/python3.11/dist-packages (from torch_geometric) (2.32.3)\n",
            "Collecting alembic>=1.5.0 (from optuna)\n",
            "  Downloading alembic-1.14.1-py3-none-any.whl.metadata (7.4 kB)\n",
            "Collecting colorlog (from optuna)\n",
            "  Downloading colorlog-6.9.0-py3-none-any.whl.metadata (10 kB)\n",
            "Requirement already satisfied: packaging>=20.0 in /usr/local/lib/python3.11/dist-packages (from optuna) (24.2)\n",
            "Requirement already satisfied: sqlalchemy>=1.4.2 in /usr/local/lib/python3.11/dist-packages (from optuna) (2.0.38)\n",
            "Requirement already satisfied: PyYAML in /usr/local/lib/python3.11/dist-packages (from optuna) (6.0.2)\n",
            "Collecting Mako (from alembic>=1.5.0->optuna)\n",
            "  Downloading Mako-1.3.9-py3-none-any.whl.metadata (2.9 kB)\n",
            "Requirement already satisfied: typing-extensions>=4 in /usr/local/lib/python3.11/dist-packages (from alembic>=1.5.0->optuna) (4.12.2)\n",
            "Requirement already satisfied: joblib>=1.2.0 in /usr/local/lib/python3.11/dist-packages (from scikit_learn>0.21->pytorch_tabnet) (1.4.2)\n",
            "Requirement already satisfied: threadpoolctl>=3.1.0 in /usr/local/lib/python3.11/dist-packages (from scikit_learn>0.21->pytorch_tabnet) (3.5.0)\n",
            "Requirement already satisfied: greenlet!=0.4.17 in /usr/local/lib/python3.11/dist-packages (from sqlalchemy>=1.4.2->optuna) (3.1.1)\n",
            "Requirement already satisfied: filelock in /usr/local/lib/python3.11/dist-packages (from torch>=1.3->pytorch_tabnet) (3.17.0)\n",
            "Requirement already satisfied: networkx in /usr/local/lib/python3.11/dist-packages (from torch>=1.3->pytorch_tabnet) (3.4.2)\n",
            "Requirement already satisfied: nvidia-cuda-nvrtc-cu12==12.4.127 in /usr/local/lib/python3.11/dist-packages (from torch>=1.3->pytorch_tabnet) (12.4.127)\n",
            "Requirement already satisfied: nvidia-cuda-runtime-cu12==12.4.127 in /usr/local/lib/python3.11/dist-packages (from torch>=1.3->pytorch_tabnet) (12.4.127)\n",
            "Requirement already satisfied: nvidia-cuda-cupti-cu12==12.4.127 in /usr/local/lib/python3.11/dist-packages (from torch>=1.3->pytorch_tabnet) (12.4.127)\n",
            "Requirement already satisfied: nvidia-cudnn-cu12==9.1.0.70 in /usr/local/lib/python3.11/dist-packages (from torch>=1.3->pytorch_tabnet) (9.1.0.70)\n",
            "Requirement already satisfied: nvidia-cublas-cu12==12.4.5.8 in /usr/local/lib/python3.11/dist-packages (from torch>=1.3->pytorch_tabnet) (12.4.5.8)\n",
            "Requirement already satisfied: nvidia-cufft-cu12==11.2.1.3 in /usr/local/lib/python3.11/dist-packages (from torch>=1.3->pytorch_tabnet) (11.2.1.3)\n",
            "Requirement already satisfied: nvidia-curand-cu12==10.3.5.147 in /usr/local/lib/python3.11/dist-packages (from torch>=1.3->pytorch_tabnet) (10.3.5.147)\n",
            "Requirement already satisfied: nvidia-cusolver-cu12==11.6.1.9 in /usr/local/lib/python3.11/dist-packages (from torch>=1.3->pytorch_tabnet) (11.6.1.9)\n",
            "Requirement already satisfied: nvidia-cusparse-cu12==12.3.1.170 in /usr/local/lib/python3.11/dist-packages (from torch>=1.3->pytorch_tabnet) (12.3.1.170)\n",
            "Requirement already satisfied: nvidia-nccl-cu12==2.21.5 in /usr/local/lib/python3.11/dist-packages (from torch>=1.3->pytorch_tabnet) (2.21.5)\n",
            "Requirement already satisfied: nvidia-nvtx-cu12==12.4.127 in /usr/local/lib/python3.11/dist-packages (from torch>=1.3->pytorch_tabnet) (12.4.127)\n",
            "Requirement already satisfied: nvidia-nvjitlink-cu12==12.4.127 in /usr/local/lib/python3.11/dist-packages (from torch>=1.3->pytorch_tabnet) (12.4.127)\n",
            "Requirement already satisfied: triton==3.1.0 in /usr/local/lib/python3.11/dist-packages (from torch>=1.3->pytorch_tabnet) (3.1.0)\n",
            "Requirement already satisfied: sympy==1.13.1 in /usr/local/lib/python3.11/dist-packages (from torch>=1.3->pytorch_tabnet) (1.13.1)\n",
            "Requirement already satisfied: mpmath<1.4,>=1.1.0 in /usr/local/lib/python3.11/dist-packages (from sympy==1.13.1->torch>=1.3->pytorch_tabnet) (1.3.0)\n",
            "Requirement already satisfied: aiohappyeyeballs>=2.3.0 in /usr/local/lib/python3.11/dist-packages (from aiohttp->torch_geometric) (2.4.6)\n",
            "Requirement already satisfied: aiosignal>=1.1.2 in /usr/local/lib/python3.11/dist-packages (from aiohttp->torch_geometric) (1.3.2)\n",
            "Requirement already satisfied: attrs>=17.3.0 in /usr/local/lib/python3.11/dist-packages (from aiohttp->torch_geometric) (25.1.0)\n",
            "Requirement already satisfied: frozenlist>=1.1.1 in /usr/local/lib/python3.11/dist-packages (from aiohttp->torch_geometric) (1.5.0)\n",
            "Requirement already satisfied: multidict<7.0,>=4.5 in /usr/local/lib/python3.11/dist-packages (from aiohttp->torch_geometric) (6.1.0)\n",
            "Requirement already satisfied: propcache>=0.2.0 in /usr/local/lib/python3.11/dist-packages (from aiohttp->torch_geometric) (0.2.1)\n",
            "Requirement already satisfied: yarl<2.0,>=1.17.0 in /usr/local/lib/python3.11/dist-packages (from aiohttp->torch_geometric) (1.18.3)\n",
            "Requirement already satisfied: MarkupSafe>=2.0 in /usr/local/lib/python3.11/dist-packages (from jinja2->torch_geometric) (3.0.2)\n",
            "Requirement already satisfied: charset-normalizer<4,>=2 in /usr/local/lib/python3.11/dist-packages (from requests->torch_geometric) (3.4.1)\n",
            "Requirement already satisfied: idna<4,>=2.5 in /usr/local/lib/python3.11/dist-packages (from requests->torch_geometric) (3.10)\n",
            "Requirement already satisfied: urllib3<3,>=1.21.1 in /usr/local/lib/python3.11/dist-packages (from requests->torch_geometric) (2.3.0)\n",
            "Requirement already satisfied: certifi>=2017.4.17 in /usr/local/lib/python3.11/dist-packages (from requests->torch_geometric) (2025.1.31)\n",
            "Downloading optuna-4.2.1-py3-none-any.whl (383 kB)\n",
            "\u001b[2K   \u001b[90m━━━━━━━━━━━━━━━━━━━━━━━━━━━━━━━━━━━━━━━━\u001b[0m \u001b[32m383.6/383.6 kB\u001b[0m \u001b[31m8.0 MB/s\u001b[0m eta \u001b[36m0:00:00\u001b[0m\n",
            "\u001b[?25hDownloading alembic-1.14.1-py3-none-any.whl (233 kB)\n",
            "\u001b[2K   \u001b[90m━━━━━━━━━━━━━━━━━━━━━━━━━━━━━━━━━━━━━━━━\u001b[0m \u001b[32m233.6/233.6 kB\u001b[0m \u001b[31m25.8 MB/s\u001b[0m eta \u001b[36m0:00:00\u001b[0m\n",
            "\u001b[?25hDownloading colorlog-6.9.0-py3-none-any.whl (11 kB)\n",
            "Downloading Mako-1.3.9-py3-none-any.whl (78 kB)\n",
            "\u001b[2K   \u001b[90m━━━━━━━━━━━━━━━━━━━━━━━━━━━━━━━━━━━━━━━━\u001b[0m \u001b[32m78.5/78.5 kB\u001b[0m \u001b[31m9.4 MB/s\u001b[0m eta \u001b[36m0:00:00\u001b[0m\n",
            "\u001b[?25hInstalling collected packages: Mako, colorlog, alembic, optuna\n",
            "Successfully installed Mako-1.3.9 alembic-1.14.1 colorlog-6.9.0 optuna-4.2.1\n"
          ]
        }
      ],
      "source": [
        "!pip install pytorch_tabnet torch_geometric optuna"
      ]
    },
    {
      "cell_type": "code",
      "execution_count": 2,
      "metadata": {
        "colab": {
          "base_uri": "https://localhost:8080/"
        },
        "id": "DAFrH8Ojlekw",
        "outputId": "bc6e5faa-bd78-429b-8b35-02e77ca5d33b"
      },
      "outputs": [
        {
          "name": "stderr",
          "output_type": "stream",
          "text": [
            "/usr/local/lib/python3.11/dist-packages/dask/dataframe/__init__.py:42: FutureWarning: \n",
            "Dask dataframe query planning is disabled because dask-expr is not installed.\n",
            "\n",
            "You can install it with `pip install dask[dataframe]` or `conda install dask`.\n",
            "This will raise in a future version.\n",
            "\n",
            "  warnings.warn(msg, FutureWarning)\n"
          ]
        }
      ],
      "source": [
        "import json\n",
        "import pandas as pd\n",
        "import matplotlib.pyplot as plt\n",
        "import plotly.express as px\n",
        "import seaborn as sns\n",
        "import numpy as np\n",
        "from scipy.stats.mstats import winsorize\n",
        "from scipy.stats import zscore\n",
        "import statsmodels.api as sm\n",
        "from itertools import combinations\n",
        "from sklearn.ensemble import IsolationForest\n",
        "from sklearn.model_selection import train_test_split\n",
        "from sklearn.metrics import classification_report, average_precision_score, precision_recall_curve\n",
        "from sklearn.preprocessing import StandardScaler\n",
        "import lightgbm as lgb\n",
        "\n",
        "import torch\n",
        "from pytorch_tabnet.tab_model import TabNetClassifier"
      ]
    },
    {
      "cell_type": "code",
      "execution_count": 3,
      "metadata": {
        "colab": {
          "base_uri": "https://localhost:8080/"
        },
        "id": "9UjnXiZNmkh0",
        "outputId": "1eece3dd-3680-4c1e-d2a3-c48f4b1ae758"
      },
      "outputs": [
        {
          "name": "stdout",
          "output_type": "stream",
          "text": [
            "Drive already mounted at /content/drive; to attempt to forcibly remount, call drive.mount(\"/content/drive\", force_remount=True).\n"
          ]
        }
      ],
      "source": [
        "from google.colab import drive, files\n",
        "drive.mount('/content/drive')"
      ]
    },
    {
      "cell_type": "markdown",
      "metadata": {
        "id": "Qhy3kfVx8m16"
      },
      "source": [
        "## **Preprocessing**"
      ]
    },
    {
      "cell_type": "code",
      "execution_count": 4,
      "metadata": {
        "id": "o3lkRnSWl9xt"
      },
      "outputs": [],
      "source": [
        "transactions = pd.read_csv(\"/content/drive/MyDrive/Capstone/Arial's/Fraud/transactions_data.csv\")  # Transaction details\n",
        "fraud_labels = pd.read_csv(\"/content/drive/MyDrive/Capstone/Arial's/Fraud/train_fraud_labels.csv\")  # Fraud labels (Target variable is here which is Yes/No)\n",
        "users = pd.read_csv(\"/content/drive/MyDrive/Capstone/Arial's/Fraud/users_data.csv\")\n",
        "\n",
        "# Merge on 'id' (transaction ID)\n",
        "df = transactions.merge(fraud_labels, on=\"id\", how=\"inner\") #inner join since we dont need the blank values\n",
        "\n",
        "# Merge users data\n",
        "df = df.merge(users, left_on=\"client_id\", right_on=\"id\", how=\"left\")  # Left join to keep all transactions\n",
        "df.drop(columns=['id_y'], inplace=True)  # Drop the redundant user ID column\n",
        "df.rename(columns={'id_x': 'id'}, inplace=True)  # Rename 'id_x' back to 'id'"
      ]
    },
    {
      "cell_type": "code",
      "execution_count": 5,
      "metadata": {
        "colab": {
          "base_uri": "https://localhost:8080/"
        },
        "id": "oZthtJr5mLZt",
        "outputId": "8986e72e-1924-48ae-93ef-04bd3119a428"
      },
      "outputs": [
        {
          "name": "stdout",
          "output_type": "stream",
          "text": [
            "['female' 'male']\n",
            "['Swipe Transaction', 'Online Transaction', 'Chip Transaction']\n",
            "Categories (3, object): ['Chip Transaction', 'Online Transaction', 'Swipe Transaction']\n"
          ]
        }
      ],
      "source": [
        "# Preprocessing:\n",
        "\n",
        "# Convert 'date' column to datetime format\n",
        "df['date'] = pd.to_datetime(df['date'])\n",
        "df['transaction_hour'] = df['date'].dt.hour\n",
        "\n",
        "# Convert 'amount' to numeric (removing '$' sign)\n",
        "df['amount'] = df['amount'].replace('[$,]', '', regex=True).astype(float)\n",
        "\n",
        "# Convert 'Target' to binary (Yes → 1, No → 0)\n",
        "df['Target'] = df['Target'].str.strip().str.lower().map({'yes': 1, 'no': 0})\n",
        "\n",
        "# Remove '$' and ',' from currency columns and convert to float\n",
        "currency_columns = ['per_capita_income', 'yearly_income', 'total_debt']\n",
        "\n",
        "for col in currency_columns:\n",
        "    df[col] = df[col].replace('[\\$,]', '', regex=True).astype(float)\n",
        "\n",
        "# Convert 'gender' to lowercase and strip spaces\n",
        "df['gender'] = df['gender'].str.strip().str.lower()\n",
        "\n",
        "# Convert 'use_chip' to categorical\n",
        "df['use_chip'] = df['use_chip'].astype('category')\n",
        "\n",
        "# Check unique values after standardization\n",
        "print(df['gender'].unique())\n",
        "print(df['use_chip'].unique())"
      ]
    },
    {
      "cell_type": "code",
      "execution_count": 6,
      "metadata": {
        "colab": {
          "base_uri": "https://localhost:8080/"
        },
        "id": "z2_J8tMk2oPd",
        "outputId": "3893697a-10f5-4c11-a15f-2ea1961bc4f7"
      },
      "outputs": [
        {
          "name": "stderr",
          "output_type": "stream",
          "text": [
            "<ipython-input-6-ab3ed18ba210>:18: FutureWarning: A value is trying to be set on a copy of a DataFrame or Series through chained assignment using an inplace method.\n",
            "The behavior will change in pandas 3.0. This inplace method will never work because the intermediate object on which we are setting values always behaves as a copy.\n",
            "\n",
            "For example, when doing 'df[col].method(value, inplace=True)', try using 'df.method({col: value}, inplace=True)' or df[col] = df[col].method(value) instead, to perform the operation inplace on the original object.\n",
            "\n",
            "\n",
            "  df['zip'].fillna(df['zip'].mode()[0], inplace=True)\n"
          ]
        }
      ],
      "source": [
        "# Handling Missing Values:\n",
        "\n",
        "# Drop the 'date' column since we no longer need it\n",
        "# df.drop(columns=['date'], inplace=True)\n",
        "# Drop 'errors' column (too many missing values)\n",
        "df.drop(columns=['errors'], inplace=True)\n",
        "# Fill missing merchant_state with \"ONLINE\" only when merchant_city is ONLINE. The way the dataset works: if merchant_city is 'ONLINE' then the merchant_state is blank, hence will append with merchant_state as ONLINE. My thought process: Fraud detection models may benefit from distinguishing between online & offline transactions.\n",
        "df.loc[df['merchant_city'] == 'ONLINE', 'merchant_state'] = 'ONLINE'\n",
        "\n",
        "# Imputing missing ZIP codes using merchant-based mode imputation.\n",
        "# Logic: Since ZIP codes correspond to merchants (not users), I will fill missing values\n",
        "# using the most frequent ZIP per `merchant_id`. If a merchant has no known ZIPs,\n",
        "# I will use the most common ZIP in the dataset as a fallback.\n",
        "\n",
        "# Fill missing ZIPs with the most frequent ZIP per merchant_id\n",
        "df['zip'] = df.groupby('merchant_id')['zip'].transform(lambda x: x.fillna(x.mode()[0] if not x.mode().empty else np.nan))\n",
        "# Fill remaining missing ZIPs with the most frequent ZIP in the dataset\n",
        "df['zip'].fillna(df['zip'].mode()[0], inplace=True)\n",
        "# Convert ZIP to integer format\n",
        "df['zip'] = df['zip'].astype(int)"
      ]
    },
    {
      "cell_type": "code",
      "execution_count": 7,
      "metadata": {
        "id": "T5PzYlpTU_4o"
      },
      "outputs": [],
      "source": [
        "# Winsorizing skewed variables (capping extreme values)\n",
        "df['amount'] = winsorize(df['amount'], limits=[0, 0.01])  # Capping top 1%\n",
        "df['total_debt'] = winsorize(df['total_debt'], limits=[0, 0.01])\n",
        "df['yearly_income'] = winsorize(df['yearly_income'], limits=[0, 0.01])\n",
        "df['per_capita_income'] = winsorize(df['per_capita_income'], limits=[0, 0.01])"
      ]
    },
    {
      "cell_type": "code",
      "execution_count": 8,
      "metadata": {
        "id": "zbgSlorNVCD_"
      },
      "outputs": [],
      "source": [
        "# Log transformation for highly skewed features\n",
        "df['amount'] = np.log1p(df['amount'].clip(lower=1))\n",
        "df['total_debt'] = np.log1p(df['total_debt'].clip(lower=1))\n",
        "df['yearly_income'] = np.log1p(df['yearly_income'].clip(lower=1))\n",
        "df['per_capita_income'] = np.log1p(df['per_capita_income'].clip(lower=1))"
      ]
    },
    {
      "cell_type": "code",
      "execution_count": 9,
      "metadata": {
        "colab": {
          "base_uri": "https://localhost:8080/"
        },
        "id": "EQKdOBx4fLPH",
        "outputId": "75e38d57-4631-4311-91e3-30c2caaf4fa0"
      },
      "outputs": [
        {
          "data": {
            "text/plain": [
              "Index(['ONLINE', 'CA', 'TX', 'NY', 'FL', 'OH', 'IL', 'NC', 'PA', 'MI'], dtype='object', name='merchant_state')"
            ]
          },
          "execution_count": 9,
          "metadata": {},
          "output_type": "execute_result"
        }
      ],
      "source": [
        "top_states = df['merchant_state'].value_counts().nlargest(10).index  # Keep top 10\n",
        "df['merchant_state'] = df['merchant_state'].apply(lambda x: x if x in top_states else \"Other\")\n",
        "top_states"
      ]
    },
    {
      "cell_type": "code",
      "execution_count": 10,
      "metadata": {
        "id": "paQa-XxzCnoD"
      },
      "outputs": [],
      "source": [
        "# One-Hot Encoding for categorical features\n",
        "df = pd.get_dummies(df, columns=['use_chip', 'merchant_state', 'gender'], dtype=int)"
      ]
    },
    {
      "cell_type": "markdown",
      "metadata": {
        "id": "AjpCGmW8UNA4"
      },
      "source": [
        "## **Feature Engineering**"
      ]
    },
    {
      "cell_type": "code",
      "execution_count": 11,
      "metadata": {
        "id": "_K2uj2VLUNA4"
      },
      "outputs": [],
      "source": [
        "## 1. Transaction-Based Feature: Amount Anomaly (Z-Score per User)\n",
        "\n",
        "# Compute z-score for each user's transaction amount\n",
        "df['amount_zscore'] = df.groupby('client_id')['amount'].transform(lambda x: zscore(x, nan_policy='omit'))\n",
        "\n",
        "# Flag extreme outliers (e.g., >3 std deviations)\n",
        "df['amount_anomaly'] = (df['amount_zscore'].abs() > 3).astype(int)\n",
        "\n",
        "\n",
        "## 2. Merchant Consistency (Diversity per User)\n",
        "\n",
        "# Count unique merchants per user\n",
        "df['merchant_diversity'] = df.groupby('client_id')['merchant_id'].transform('nunique')\n",
        "\n",
        "# Normalize by total transactions per user\n",
        "df['merchant_diversity_ratio'] = df['merchant_diversity'] / df.groupby('client_id')['merchant_id'].transform('count')\n",
        "\n",
        "\n",
        "## 3. High-Risk MCC Codes\n",
        "\n",
        "# Group by MCC and calculate fraud rate\n",
        "mcc_fraud_rate = df.groupby('mcc')['Target'].mean().reset_index()\n",
        "\n",
        "# Sort by fraud rate\n",
        "mcc_fraud_rate = mcc_fraud_rate.sort_values('Target', ascending=False)\n",
        "\n",
        "# Select top MCC codes with highest fraud rates (e.g., top 5%)\n",
        "high_risk_mccs = mcc_fraud_rate.head(int(len(mcc_fraud_rate) * 0.05))['mcc'].tolist()\n",
        "\n",
        "# Group by MCC and calculate aggregated features (e.g., mean amount, transaction count, fraud count)\n",
        "mcc_agg = df.groupby('mcc').agg(\n",
        "    transaction_count=('Target', 'count'),\n",
        "    fraud_count=('Target', 'sum'),\n",
        "    avg_amount=('amount', 'mean')\n",
        ").reset_index()\n",
        "\n",
        "# Use Isolation Forest to detect MCC outliers\n",
        "iso_forest = IsolationForest(contamination=0.05)  # 5% contamination (adjust as needed)\n",
        "mcc_agg['outlier'] = iso_forest.fit_predict(mcc_agg[['transaction_count', 'fraud_count', 'avg_amount']])\n",
        "\n",
        "# MCCs with outlier label (-1) are considered high-risk\n",
        "high_risk_mccs.extend(mcc_agg[mcc_agg['outlier'] == -1]['mcc'].tolist())\n",
        "\n",
        "# Combine both lists\n",
        "high_risk_mccs_combined = list(set(high_risk_mccs))\n",
        "\n",
        "# Add new high-risk indicator column based on combined high-risk MCCs\n",
        "df['high_risk_mcc'] = df['mcc'].isin(high_risk_mccs_combined).astype(int)\n"
      ]
    },
    {
      "cell_type": "code",
      "execution_count": 12,
      "metadata": {
        "colab": {
          "base_uri": "https://localhost:8080/",
          "height": 429
        },
        "id": "eqbJZNH6UNA4",
        "outputId": "87f07b2f-01df-4db6-b214-8c7fe3e778a4"
      },
      "outputs": [
        {
          "data": {
            "application/vnd.google.colaboratory.intrinsic+json": {
              "type": "dataframe",
              "variable_name": "df"
            },
            "text/html": [
              "\n",
              "  <div id=\"df-bf3d25ce-6b49-4058-a7bd-75a0bd0097bb\" class=\"colab-df-container\">\n",
              "    <div>\n",
              "<style scoped>\n",
              "    .dataframe tbody tr th:only-of-type {\n",
              "        vertical-align: middle;\n",
              "    }\n",
              "\n",
              "    .dataframe tbody tr th {\n",
              "        vertical-align: top;\n",
              "    }\n",
              "\n",
              "    .dataframe thead th {\n",
              "        text-align: right;\n",
              "    }\n",
              "</style>\n",
              "<table border=\"1\" class=\"dataframe\">\n",
              "  <thead>\n",
              "    <tr style=\"text-align: right;\">\n",
              "      <th></th>\n",
              "      <th>id</th>\n",
              "      <th>date</th>\n",
              "      <th>client_id</th>\n",
              "      <th>card_id</th>\n",
              "      <th>amount</th>\n",
              "      <th>merchant_id</th>\n",
              "      <th>merchant_city</th>\n",
              "      <th>zip</th>\n",
              "      <th>mcc</th>\n",
              "      <th>Target</th>\n",
              "      <th>...</th>\n",
              "      <th>merchant_state_Other</th>\n",
              "      <th>merchant_state_PA</th>\n",
              "      <th>merchant_state_TX</th>\n",
              "      <th>gender_female</th>\n",
              "      <th>gender_male</th>\n",
              "      <th>amount_zscore</th>\n",
              "      <th>amount_anomaly</th>\n",
              "      <th>merchant_diversity</th>\n",
              "      <th>merchant_diversity_ratio</th>\n",
              "      <th>high_risk_mcc</th>\n",
              "    </tr>\n",
              "  </thead>\n",
              "  <tbody>\n",
              "    <tr>\n",
              "      <th>0</th>\n",
              "      <td>7475327</td>\n",
              "      <td>2010-01-01 00:01:00</td>\n",
              "      <td>1556</td>\n",
              "      <td>2972</td>\n",
              "      <td>0.693147</td>\n",
              "      <td>59935</td>\n",
              "      <td>Beulah</td>\n",
              "      <td>58523</td>\n",
              "      <td>5499</td>\n",
              "      <td>0</td>\n",
              "      <td>...</td>\n",
              "      <td>1</td>\n",
              "      <td>0</td>\n",
              "      <td>0</td>\n",
              "      <td>1</td>\n",
              "      <td>0</td>\n",
              "      <td>-1.899856</td>\n",
              "      <td>0</td>\n",
              "      <td>205</td>\n",
              "      <td>0.059010</td>\n",
              "      <td>1</td>\n",
              "    </tr>\n",
              "    <tr>\n",
              "      <th>1</th>\n",
              "      <td>7475328</td>\n",
              "      <td>2010-01-01 00:02:00</td>\n",
              "      <td>561</td>\n",
              "      <td>4575</td>\n",
              "      <td>2.745346</td>\n",
              "      <td>67570</td>\n",
              "      <td>Bettendorf</td>\n",
              "      <td>52722</td>\n",
              "      <td>5311</td>\n",
              "      <td>0</td>\n",
              "      <td>...</td>\n",
              "      <td>1</td>\n",
              "      <td>0</td>\n",
              "      <td>0</td>\n",
              "      <td>0</td>\n",
              "      <td>1</td>\n",
              "      <td>-0.167103</td>\n",
              "      <td>0</td>\n",
              "      <td>358</td>\n",
              "      <td>0.045652</td>\n",
              "      <td>1</td>\n",
              "    </tr>\n",
              "    <tr>\n",
              "      <th>2</th>\n",
              "      <td>7475329</td>\n",
              "      <td>2010-01-01 00:02:00</td>\n",
              "      <td>1129</td>\n",
              "      <td>102</td>\n",
              "      <td>4.394449</td>\n",
              "      <td>27092</td>\n",
              "      <td>Vista</td>\n",
              "      <td>92084</td>\n",
              "      <td>4829</td>\n",
              "      <td>0</td>\n",
              "      <td>...</td>\n",
              "      <td>0</td>\n",
              "      <td>0</td>\n",
              "      <td>0</td>\n",
              "      <td>0</td>\n",
              "      <td>1</td>\n",
              "      <td>0.760677</td>\n",
              "      <td>0</td>\n",
              "      <td>254</td>\n",
              "      <td>0.026065</td>\n",
              "      <td>1</td>\n",
              "    </tr>\n",
              "    <tr>\n",
              "      <th>3</th>\n",
              "      <td>7475332</td>\n",
              "      <td>2010-01-01 00:06:00</td>\n",
              "      <td>848</td>\n",
              "      <td>3915</td>\n",
              "      <td>3.858833</td>\n",
              "      <td>13051</td>\n",
              "      <td>Harwood</td>\n",
              "      <td>20776</td>\n",
              "      <td>5813</td>\n",
              "      <td>0</td>\n",
              "      <td>...</td>\n",
              "      <td>1</td>\n",
              "      <td>0</td>\n",
              "      <td>0</td>\n",
              "      <td>0</td>\n",
              "      <td>1</td>\n",
              "      <td>-0.015300</td>\n",
              "      <td>0</td>\n",
              "      <td>323</td>\n",
              "      <td>0.072731</td>\n",
              "      <td>0</td>\n",
              "    </tr>\n",
              "    <tr>\n",
              "      <th>4</th>\n",
              "      <td>7475333</td>\n",
              "      <td>2010-01-01 00:07:00</td>\n",
              "      <td>1807</td>\n",
              "      <td>165</td>\n",
              "      <td>1.759581</td>\n",
              "      <td>20519</td>\n",
              "      <td>Bronx</td>\n",
              "      <td>10464</td>\n",
              "      <td>5942</td>\n",
              "      <td>0</td>\n",
              "      <td>...</td>\n",
              "      <td>0</td>\n",
              "      <td>0</td>\n",
              "      <td>0</td>\n",
              "      <td>1</td>\n",
              "      <td>0</td>\n",
              "      <td>-1.572432</td>\n",
              "      <td>0</td>\n",
              "      <td>409</td>\n",
              "      <td>0.030775</td>\n",
              "      <td>0</td>\n",
              "    </tr>\n",
              "  </tbody>\n",
              "</table>\n",
              "<p>5 rows × 44 columns</p>\n",
              "</div>\n",
              "    <div class=\"colab-df-buttons\">\n",
              "\n",
              "  <div class=\"colab-df-container\">\n",
              "    <button class=\"colab-df-convert\" onclick=\"convertToInteractive('df-bf3d25ce-6b49-4058-a7bd-75a0bd0097bb')\"\n",
              "            title=\"Convert this dataframe to an interactive table.\"\n",
              "            style=\"display:none;\">\n",
              "\n",
              "  <svg xmlns=\"http://www.w3.org/2000/svg\" height=\"24px\" viewBox=\"0 -960 960 960\">\n",
              "    <path d=\"M120-120v-720h720v720H120Zm60-500h600v-160H180v160Zm220 220h160v-160H400v160Zm0 220h160v-160H400v160ZM180-400h160v-160H180v160Zm440 0h160v-160H620v160ZM180-180h160v-160H180v160Zm440 0h160v-160H620v160Z\"/>\n",
              "  </svg>\n",
              "    </button>\n",
              "\n",
              "  <style>\n",
              "    .colab-df-container {\n",
              "      display:flex;\n",
              "      gap: 12px;\n",
              "    }\n",
              "\n",
              "    .colab-df-convert {\n",
              "      background-color: #E8F0FE;\n",
              "      border: none;\n",
              "      border-radius: 50%;\n",
              "      cursor: pointer;\n",
              "      display: none;\n",
              "      fill: #1967D2;\n",
              "      height: 32px;\n",
              "      padding: 0 0 0 0;\n",
              "      width: 32px;\n",
              "    }\n",
              "\n",
              "    .colab-df-convert:hover {\n",
              "      background-color: #E2EBFA;\n",
              "      box-shadow: 0px 1px 2px rgba(60, 64, 67, 0.3), 0px 1px 3px 1px rgba(60, 64, 67, 0.15);\n",
              "      fill: #174EA6;\n",
              "    }\n",
              "\n",
              "    .colab-df-buttons div {\n",
              "      margin-bottom: 4px;\n",
              "    }\n",
              "\n",
              "    [theme=dark] .colab-df-convert {\n",
              "      background-color: #3B4455;\n",
              "      fill: #D2E3FC;\n",
              "    }\n",
              "\n",
              "    [theme=dark] .colab-df-convert:hover {\n",
              "      background-color: #434B5C;\n",
              "      box-shadow: 0px 1px 3px 1px rgba(0, 0, 0, 0.15);\n",
              "      filter: drop-shadow(0px 1px 2px rgba(0, 0, 0, 0.3));\n",
              "      fill: #FFFFFF;\n",
              "    }\n",
              "  </style>\n",
              "\n",
              "    <script>\n",
              "      const buttonEl =\n",
              "        document.querySelector('#df-bf3d25ce-6b49-4058-a7bd-75a0bd0097bb button.colab-df-convert');\n",
              "      buttonEl.style.display =\n",
              "        google.colab.kernel.accessAllowed ? 'block' : 'none';\n",
              "\n",
              "      async function convertToInteractive(key) {\n",
              "        const element = document.querySelector('#df-bf3d25ce-6b49-4058-a7bd-75a0bd0097bb');\n",
              "        const dataTable =\n",
              "          await google.colab.kernel.invokeFunction('convertToInteractive',\n",
              "                                                    [key], {});\n",
              "        if (!dataTable) return;\n",
              "\n",
              "        const docLinkHtml = 'Like what you see? Visit the ' +\n",
              "          '<a target=\"_blank\" href=https://colab.research.google.com/notebooks/data_table.ipynb>data table notebook</a>'\n",
              "          + ' to learn more about interactive tables.';\n",
              "        element.innerHTML = '';\n",
              "        dataTable['output_type'] = 'display_data';\n",
              "        await google.colab.output.renderOutput(dataTable, element);\n",
              "        const docLink = document.createElement('div');\n",
              "        docLink.innerHTML = docLinkHtml;\n",
              "        element.appendChild(docLink);\n",
              "      }\n",
              "    </script>\n",
              "  </div>\n",
              "\n",
              "\n",
              "<div id=\"df-3b8717cc-4fdb-484a-adf6-f59c6e745360\">\n",
              "  <button class=\"colab-df-quickchart\" onclick=\"quickchart('df-3b8717cc-4fdb-484a-adf6-f59c6e745360')\"\n",
              "            title=\"Suggest charts\"\n",
              "            style=\"display:none;\">\n",
              "\n",
              "<svg xmlns=\"http://www.w3.org/2000/svg\" height=\"24px\"viewBox=\"0 0 24 24\"\n",
              "     width=\"24px\">\n",
              "    <g>\n",
              "        <path d=\"M19 3H5c-1.1 0-2 .9-2 2v14c0 1.1.9 2 2 2h14c1.1 0 2-.9 2-2V5c0-1.1-.9-2-2-2zM9 17H7v-7h2v7zm4 0h-2V7h2v10zm4 0h-2v-4h2v4z\"/>\n",
              "    </g>\n",
              "</svg>\n",
              "  </button>\n",
              "\n",
              "<style>\n",
              "  .colab-df-quickchart {\n",
              "      --bg-color: #E8F0FE;\n",
              "      --fill-color: #1967D2;\n",
              "      --hover-bg-color: #E2EBFA;\n",
              "      --hover-fill-color: #174EA6;\n",
              "      --disabled-fill-color: #AAA;\n",
              "      --disabled-bg-color: #DDD;\n",
              "  }\n",
              "\n",
              "  [theme=dark] .colab-df-quickchart {\n",
              "      --bg-color: #3B4455;\n",
              "      --fill-color: #D2E3FC;\n",
              "      --hover-bg-color: #434B5C;\n",
              "      --hover-fill-color: #FFFFFF;\n",
              "      --disabled-bg-color: #3B4455;\n",
              "      --disabled-fill-color: #666;\n",
              "  }\n",
              "\n",
              "  .colab-df-quickchart {\n",
              "    background-color: var(--bg-color);\n",
              "    border: none;\n",
              "    border-radius: 50%;\n",
              "    cursor: pointer;\n",
              "    display: none;\n",
              "    fill: var(--fill-color);\n",
              "    height: 32px;\n",
              "    padding: 0;\n",
              "    width: 32px;\n",
              "  }\n",
              "\n",
              "  .colab-df-quickchart:hover {\n",
              "    background-color: var(--hover-bg-color);\n",
              "    box-shadow: 0 1px 2px rgba(60, 64, 67, 0.3), 0 1px 3px 1px rgba(60, 64, 67, 0.15);\n",
              "    fill: var(--button-hover-fill-color);\n",
              "  }\n",
              "\n",
              "  .colab-df-quickchart-complete:disabled,\n",
              "  .colab-df-quickchart-complete:disabled:hover {\n",
              "    background-color: var(--disabled-bg-color);\n",
              "    fill: var(--disabled-fill-color);\n",
              "    box-shadow: none;\n",
              "  }\n",
              "\n",
              "  .colab-df-spinner {\n",
              "    border: 2px solid var(--fill-color);\n",
              "    border-color: transparent;\n",
              "    border-bottom-color: var(--fill-color);\n",
              "    animation:\n",
              "      spin 1s steps(1) infinite;\n",
              "  }\n",
              "\n",
              "  @keyframes spin {\n",
              "    0% {\n",
              "      border-color: transparent;\n",
              "      border-bottom-color: var(--fill-color);\n",
              "      border-left-color: var(--fill-color);\n",
              "    }\n",
              "    20% {\n",
              "      border-color: transparent;\n",
              "      border-left-color: var(--fill-color);\n",
              "      border-top-color: var(--fill-color);\n",
              "    }\n",
              "    30% {\n",
              "      border-color: transparent;\n",
              "      border-left-color: var(--fill-color);\n",
              "      border-top-color: var(--fill-color);\n",
              "      border-right-color: var(--fill-color);\n",
              "    }\n",
              "    40% {\n",
              "      border-color: transparent;\n",
              "      border-right-color: var(--fill-color);\n",
              "      border-top-color: var(--fill-color);\n",
              "    }\n",
              "    60% {\n",
              "      border-color: transparent;\n",
              "      border-right-color: var(--fill-color);\n",
              "    }\n",
              "    80% {\n",
              "      border-color: transparent;\n",
              "      border-right-color: var(--fill-color);\n",
              "      border-bottom-color: var(--fill-color);\n",
              "    }\n",
              "    90% {\n",
              "      border-color: transparent;\n",
              "      border-bottom-color: var(--fill-color);\n",
              "    }\n",
              "  }\n",
              "</style>\n",
              "\n",
              "  <script>\n",
              "    async function quickchart(key) {\n",
              "      const quickchartButtonEl =\n",
              "        document.querySelector('#' + key + ' button');\n",
              "      quickchartButtonEl.disabled = true;  // To prevent multiple clicks.\n",
              "      quickchartButtonEl.classList.add('colab-df-spinner');\n",
              "      try {\n",
              "        const charts = await google.colab.kernel.invokeFunction(\n",
              "            'suggestCharts', [key], {});\n",
              "      } catch (error) {\n",
              "        console.error('Error during call to suggestCharts:', error);\n",
              "      }\n",
              "      quickchartButtonEl.classList.remove('colab-df-spinner');\n",
              "      quickchartButtonEl.classList.add('colab-df-quickchart-complete');\n",
              "    }\n",
              "    (() => {\n",
              "      let quickchartButtonEl =\n",
              "        document.querySelector('#df-3b8717cc-4fdb-484a-adf6-f59c6e745360 button');\n",
              "      quickchartButtonEl.style.display =\n",
              "        google.colab.kernel.accessAllowed ? 'block' : 'none';\n",
              "    })();\n",
              "  </script>\n",
              "</div>\n",
              "\n",
              "    </div>\n",
              "  </div>\n"
            ],
            "text/plain": [
              "        id                date  client_id  card_id    amount  merchant_id  \\\n",
              "0  7475327 2010-01-01 00:01:00       1556     2972  0.693147        59935   \n",
              "1  7475328 2010-01-01 00:02:00        561     4575  2.745346        67570   \n",
              "2  7475329 2010-01-01 00:02:00       1129      102  4.394449        27092   \n",
              "3  7475332 2010-01-01 00:06:00        848     3915  3.858833        13051   \n",
              "4  7475333 2010-01-01 00:07:00       1807      165  1.759581        20519   \n",
              "\n",
              "  merchant_city    zip   mcc  Target  ...  merchant_state_Other  \\\n",
              "0        Beulah  58523  5499       0  ...                     1   \n",
              "1    Bettendorf  52722  5311       0  ...                     1   \n",
              "2         Vista  92084  4829       0  ...                     0   \n",
              "3       Harwood  20776  5813       0  ...                     1   \n",
              "4         Bronx  10464  5942       0  ...                     0   \n",
              "\n",
              "   merchant_state_PA  merchant_state_TX  gender_female gender_male  \\\n",
              "0                  0                  0              1           0   \n",
              "1                  0                  0              0           1   \n",
              "2                  0                  0              0           1   \n",
              "3                  0                  0              0           1   \n",
              "4                  0                  0              1           0   \n",
              "\n",
              "   amount_zscore  amount_anomaly  merchant_diversity  \\\n",
              "0      -1.899856               0                 205   \n",
              "1      -0.167103               0                 358   \n",
              "2       0.760677               0                 254   \n",
              "3      -0.015300               0                 323   \n",
              "4      -1.572432               0                 409   \n",
              "\n",
              "   merchant_diversity_ratio  high_risk_mcc  \n",
              "0                  0.059010              1  \n",
              "1                  0.045652              1  \n",
              "2                  0.026065              1  \n",
              "3                  0.072731              0  \n",
              "4                  0.030775              0  \n",
              "\n",
              "[5 rows x 44 columns]"
            ]
          },
          "execution_count": 12,
          "metadata": {},
          "output_type": "execute_result"
        }
      ],
      "source": [
        "df.head()"
      ]
    },
    {
      "cell_type": "code",
      "execution_count": 13,
      "metadata": {
        "colab": {
          "base_uri": "https://localhost:8080/"
        },
        "id": "MZhQbA4-UNA5",
        "outputId": "97bcc65d-18a6-4ddd-888e-8090a5bc528f"
      },
      "outputs": [
        {
          "data": {
            "text/plain": [
              "Index(['id', 'date', 'client_id', 'card_id', 'amount', 'merchant_id',\n",
              "       'merchant_city', 'zip', 'mcc', 'Target', 'current_age',\n",
              "       'retirement_age', 'birth_year', 'birth_month', 'address', 'latitude',\n",
              "       'longitude', 'per_capita_income', 'yearly_income', 'total_debt',\n",
              "       'credit_score', 'num_credit_cards', 'transaction_hour',\n",
              "       'use_chip_Chip Transaction', 'use_chip_Online Transaction',\n",
              "       'use_chip_Swipe Transaction', 'merchant_state_CA', 'merchant_state_FL',\n",
              "       'merchant_state_IL', 'merchant_state_MI', 'merchant_state_NC',\n",
              "       'merchant_state_NY', 'merchant_state_OH', 'merchant_state_ONLINE',\n",
              "       'merchant_state_Other', 'merchant_state_PA', 'merchant_state_TX',\n",
              "       'gender_female', 'gender_male', 'amount_zscore', 'amount_anomaly',\n",
              "       'merchant_diversity', 'merchant_diversity_ratio', 'high_risk_mcc'],\n",
              "      dtype='object')"
            ]
          },
          "execution_count": 13,
          "metadata": {},
          "output_type": "execute_result"
        }
      ],
      "source": [
        "df.columns"
      ]
    },
    {
      "cell_type": "code",
      "execution_count": null,
      "metadata": {
        "id": "7nLP2oIaMZG2"
      },
      "outputs": [],
      "source": [
        "# Drop irrelevant cols\n",
        "drop_cols = ['id', 'date', 'client_id', 'card_id', 'merchant_id', 'merchant_city', 'zip', 'mcc', 'address', 'latitude', 'longitude', 'Target']\n",
        "\n",
        "# Define independent (X) and dependent (y) variables\n",
        "X = df.drop(columns=drop_cols)  # Drop the target column\n",
        "y = df['Target']  # Target variable"
      ]
    },
    {
      "cell_type": "markdown",
      "metadata": {
        "id": "9e2ohFrYH8iq"
      },
      "source": [
        "## **Handle Imbalanced Class**"
      ]
    },
    {
      "cell_type": "code",
      "execution_count": 53,
      "metadata": {
        "colab": {
          "base_uri": "https://localhost:8080/"
        },
        "id": "evWpdGPnywII",
        "outputId": "a25905d3-6a82-42f3-ad6e-6c0ca919b336"
      },
      "outputs": [
        {
          "name": "stdout",
          "output_type": "stream",
          "text": [
            "Train Set: (4272780, 32) (4272780,)\n",
            "Test Set: (1782993, 32) (1782993,)\n"
          ]
        }
      ],
      "source": [
        "from imblearn.over_sampling import SMOTE\n",
        "from imblearn.under_sampling import RandomUnderSampler\n",
        "from imblearn.pipeline import Pipeline\n",
        "\n",
        "# Train/Test Split\n",
        "X_train, X_test, y_train, y_test = train_test_split(X, y, test_size=0.2, random_state=42, stratify=y)\n",
        "\n",
        "# Define oversampling and undersampling\n",
        "over = SMOTE(sampling_strategy=0.2, random_state=42)  # Oversample fraud to 20%\n",
        "under = RandomUnderSampler(sampling_strategy=0.5, random_state=42)  # Balance to 1:2 ratio\n",
        "\n",
        "# Create pipeline\n",
        "imbalance_pipeline = Pipeline(steps=[(\"over\", over), (\"under\", under)])\n",
        "\n",
        "# Apply resampling\n",
        "X_resampled, y_resampled = imbalance_pipeline.fit_resample(X_train, y_train)\n",
        "\n",
        "# Check the shape of the split\n",
        "print(\"Train Set:\", X_resampled.shape, y_resampled.shape)\n",
        "print(\"Test Set:\", X_test.shape, y_test.shape)"
      ]
    },
    {
      "cell_type": "code",
      "execution_count": 15,
      "metadata": {
        "colab": {
          "base_uri": "https://localhost:8080/"
        },
        "id": "xzMtjMcNINeG",
        "outputId": "225827f5-3efa-43bc-cd41-538faba263af"
      },
      "outputs": [
        {
          "name": "stdout",
          "output_type": "stream",
          "text": [
            "Train Set: (7131970, 32) (7131970,)\n",
            "Test Set: (1782993, 32) (1782993,)\n"
          ]
        }
      ],
      "source": [
        "# # Split into training and testing sets (80% train, 20% test)\n",
        "# X_train, X_test, y_train, y_test = train_test_split(X, y, test_size=0.2, random_state=42, stratify=y)\n",
        "\n",
        "# # Check the shape of the split\n",
        "# print(\"Train Set:\", X_train.shape, y_train.shape)\n",
        "# print(\"Test Set:\", X_test.shape, y_test.shape)"
      ]
    },
    {
      "cell_type": "code",
      "execution_count": 54,
      "metadata": {
        "colab": {
          "base_uri": "https://localhost:8080/"
        },
        "id": "TnyP9cflU51s",
        "outputId": "78ab7677-2b96-4b82-f3be-a8c76e749c68"
      },
      "outputs": [
        {
          "name": "stdout",
          "output_type": "stream",
          "text": [
            "Class weights:  {0: 0.75, 1: 1.5}\n"
          ]
        }
      ],
      "source": [
        "from sklearn.utils.class_weight import compute_class_weight\n",
        "\n",
        "# Compute balanced class weights\n",
        "class_weights = compute_class_weight(\n",
        "    class_weight='balanced',\n",
        "    classes=np.unique(y_resampled),\n",
        "    y=y_resampled\n",
        ")\n",
        "class_weight_dict = dict(zip(np.unique(y_resampled), class_weights))\n",
        "\n",
        "print(\"Class weights: \", class_weight_dict)"
      ]
    },
    {
      "cell_type": "markdown",
      "metadata": {
        "id": "luv2Uht28Oc_"
      },
      "source": [
        "## **Modeling**"
      ]
    },
    {
      "cell_type": "code",
      "execution_count": 56,
      "metadata": {
        "colab": {
          "base_uri": "https://localhost:8080/",
          "height": 260
        },
        "id": "VZtgA7aAU8Ry",
        "outputId": "d21fd96c-7e53-4579-eb38-07b7f086c104"
      },
      "outputs": [
        {
          "name": "stdout",
          "output_type": "stream",
          "text": [
            "epoch 0  | loss: 0.2257  | val_0_auc: 0.92573 |  0:02:45s\n",
            "epoch 1  | loss: 0.1888  | val_0_auc: 0.92888 |  0:05:31s\n",
            "epoch 2  | loss: 0.17824 | val_0_auc: 0.93308 |  0:08:18s\n",
            "epoch 3  | loss: 0.16696 | val_0_auc: 0.93455 |  0:11:05s\n",
            "epoch 4  | loss: 0.16211 | val_0_auc: 0.93512 |  0:13:53s\n",
            "epoch 5  | loss: 0.16194 | val_0_auc: 0.93596 |  0:16:39s\n",
            "epoch 6  | loss: 0.1584  | val_0_auc: 0.9379  |  0:19:27s\n",
            "epoch 7  | loss: 0.1602  | val_0_auc: 0.93576 |  0:22:12s\n",
            "epoch 8  | loss: 0.15638 | val_0_auc: 0.93971 |  0:24:52s\n",
            "epoch 9  | loss: 0.16054 | val_0_auc: 0.9251  |  0:27:33s\n",
            "Stop training because you reached max_epochs = 10 with best_epoch = 8 and best_val_0_auc = 0.93971\n",
            "Successfully saved model at tabnet_fraud_model.zip\n"
          ]
        },
        {
          "name": "stderr",
          "output_type": "stream",
          "text": [
            "/usr/local/lib/python3.11/dist-packages/pytorch_tabnet/callbacks.py:172: UserWarning: Best weights from best epoch are automatically used!\n",
            "  warnings.warn(wrn_msg)\n"
          ]
        },
        {
          "data": {
            "application/javascript": "\n    async function download(id, filename, size) {\n      if (!google.colab.kernel.accessAllowed) {\n        return;\n      }\n      const div = document.createElement('div');\n      const label = document.createElement('label');\n      label.textContent = `Downloading \"${filename}\": `;\n      div.appendChild(label);\n      const progress = document.createElement('progress');\n      progress.max = size;\n      div.appendChild(progress);\n      document.body.appendChild(div);\n\n      const buffers = [];\n      let downloaded = 0;\n\n      const channel = await google.colab.kernel.comms.open(id);\n      // Send a message to notify the kernel that we're ready.\n      channel.send({})\n\n      for await (const message of channel.messages) {\n        // Send a message to notify the kernel that we're ready.\n        channel.send({})\n        if (message.buffers) {\n          for (const buffer of message.buffers) {\n            buffers.push(buffer);\n            downloaded += buffer.byteLength;\n            progress.value = downloaded;\n          }\n        }\n      }\n      const blob = new Blob(buffers, {type: 'application/binary'});\n      const a = document.createElement('a');\n      a.href = window.URL.createObjectURL(blob);\n      a.download = filename;\n      div.appendChild(a);\n      a.click();\n      div.remove();\n    }\n  ",
            "text/plain": [
              "<IPython.core.display.Javascript object>"
            ]
          },
          "metadata": {},
          "output_type": "display_data"
        },
        {
          "data": {
            "application/javascript": "download(\"download_d892ce71-5c08-409a-ba90-24e66e4b10d0\", \"tabnet_fraud_model.zip\", 43869)",
            "text/plain": [
              "<IPython.core.display.Javascript object>"
            ]
          },
          "metadata": {},
          "output_type": "display_data"
        }
      ],
      "source": [
        "# Initialize and train TabNet model with class weights\n",
        "tabnet_model = TabNetClassifier(\n",
        "    n_d=8,\n",
        "    n_a=8,\n",
        "    n_steps=3,\n",
        "    gamma=1.5,\n",
        "    lambda_sparse=1e-5,\n",
        "    optimizer_fn=torch.optim.Adam,\n",
        "    optimizer_params=dict(lr=2e-2),\n",
        "    mask_type='sparsemax',\n",
        "    verbose=1\n",
        ")\n",
        "\n",
        "try:\n",
        "    tabnet_model.load_model('tabnet_fraud_model.zip')\n",
        "except:\n",
        "    tabnet_model.fit(\n",
        "        # X_train.values, y_train.values,\n",
        "        X_resampled.values, y_resampled.values,\n",
        "        eval_set=[(X_test.values, y_test.values)],\n",
        "        eval_metric=['auc'],\n",
        "        max_epochs=10,\n",
        "        patience=5,\n",
        "        batch_size=1024,\n",
        "        virtual_batch_size=128,\n",
        "        weights=class_weight_dict,\n",
        "        compute_importance=False\n",
        "    )\n",
        "\n",
        "    tabnet_model.save_model('tabnet_fraud_model')\n",
        "    files.download(\"tabnet_fraud_model.zip\")\n",
        "\n",
        "# Evaluate on the test set\n",
        "# y_pred_tabnet = tabnet_model.predict(X_test.values)\n"
      ]
    },
    {
      "cell_type": "code",
      "execution_count": 57,
      "metadata": {
        "colab": {
          "base_uri": "https://localhost:8080/",
          "height": 720
        },
        "id": "EtSJ8FMbepCz",
        "outputId": "3fa6c609-43c1-45cd-c411-ff31b4c3c31c"
      },
      "outputs": [
        {
          "name": "stdout",
          "output_type": "stream",
          "text": [
            "              precision    recall  f1-score   support\n",
            "\n",
            "           0       1.00      0.93      0.96   1780327\n",
            "           1       0.02      0.81      0.03      2666\n",
            "\n",
            "    accuracy                           0.93   1782993\n",
            "   macro avg       0.51      0.87      0.50   1782993\n",
            "weighted avg       1.00      0.93      0.96   1782993\n",
            "\n"
          ]
        },
        {
          "data": {
            "image/png": "[encoded data removed]",
            "text/plain": [
              "<Figure size 800x600 with 1 Axes>"
            ]
          },
          "metadata": {},
          "output_type": "display_data"
        }
      ],
      "source": [
        "y_pred_proba = tabnet_model.predict_proba(X_test.values)[:, 1]\n",
        "y_pred_tabnet = (y_pred_proba > 0.5).astype(int)\n",
        "# Generate the classification report\n",
        "print(classification_report(y_test.values, y_pred_tabnet))\n",
        "\n",
        "# Compute precision-recall curve\n",
        "precision, recall, thresholds = precision_recall_curve(y_test, y_pred_proba)\n",
        "\n",
        "# Plot precision-recall curve\n",
        "plt.figure(figsize=(8, 6))\n",
        "plt.plot(recall, precision, color='blue', lw=2)\n",
        "plt.xlabel('Recall')\n",
        "plt.ylabel('Precision')\n",
        "plt.title('Precision-Recall Curve')\n",
        "plt.show()"
      ]
    },
    {
      "cell_type": "code",
      "execution_count": 61,
      "metadata": {
        "colab": {
          "base_uri": "https://localhost:8080/"
        },
        "id": "GshN9k1-XQd4",
        "outputId": "d9e07284-8246-4b73-d35b-24be9aada944"
      },
      "outputs": [
        {
          "name": "stderr",
          "output_type": "stream",
          "text": [
            "[I 2025-02-24 05:18:29,256] A new study created in memory with name: no-name-0581147a-98d9-4bc7-a78b-751ca4a2f7c4\n",
            "/usr/local/lib/python3.11/dist-packages/pytorch_tabnet/abstract_model.py:82: UserWarning: Device used : cuda\n",
            "  warnings.warn(f\"Device used : {self.device}\")\n"
          ]
        },
        {
          "name": "stdout",
          "output_type": "stream",
          "text": [
            "epoch 0  | loss: 0.25069 | val_0_auc: 0.91864 |  0:09:12s\n",
            "epoch 1  | loss: 0.23114 | val_0_auc: 0.92463 |  0:18:38s\n",
            "epoch 2  | loss: 0.19715 | val_0_auc: 0.93165 |  0:28:02s\n",
            "epoch 3  | loss: 0.18191 | val_0_auc: 0.93478 |  0:37:25s\n",
            "epoch 4  | loss: 0.16277 | val_0_auc: 0.93757 |  0:46:53s\n",
            "epoch 5  | loss: 0.14766 | val_0_auc: 0.93971 |  0:56:21s\n",
            "epoch 6  | loss: 0.14098 | val_0_auc: 0.9402  |  1:05:49s\n",
            "epoch 7  | loss: 0.13513 | val_0_auc: 0.94085 |  1:15:14s\n",
            "epoch 8  | loss: 0.13218 | val_0_auc: 0.93955 |  1:24:49s\n",
            "epoch 9  | loss: 0.13016 | val_0_auc: 0.93818 |  1:34:25s\n",
            "Stop training because you reached max_epochs = 10 with best_epoch = 7 and best_val_0_auc = 0.94085\n"
          ]
        },
        {
          "name": "stderr",
          "output_type": "stream",
          "text": [
            "/usr/local/lib/python3.11/dist-packages/pytorch_tabnet/callbacks.py:172: UserWarning: Best weights from best epoch are automatically used!\n",
            "  warnings.warn(wrn_msg)\n",
            "[I 2025-02-24 06:54:33,507] Trial 0 finished with value: 0.05399511685676662 and parameters: {'n_d': 8, 'n_a': 24, 'n_steps': 7, 'gamma': 1.2391396411912878, 'lambda_sparse': 0.00015333187457366258, 'lr': 0.015791702514464587, 'batch_size': 512}. Best is trial 0 with value: 0.05399511685676662.\n",
            "/usr/local/lib/python3.11/dist-packages/pytorch_tabnet/abstract_model.py:82: UserWarning: Device used : cuda\n",
            "  warnings.warn(f\"Device used : {self.device}\")\n"
          ]
        },
        {
          "name": "stdout",
          "output_type": "stream",
          "text": [
            "epoch 0  | loss: 0.20093 | val_0_auc: 0.93368 |  0:03:32s\n",
            "epoch 1  | loss: 0.13627 | val_0_auc: 0.94056 |  0:07:04s\n",
            "epoch 2  | loss: 0.11853 | val_0_auc: 0.93972 |  0:10:37s\n",
            "epoch 3  | loss: 0.1095  | val_0_auc: 0.93948 |  0:14:10s\n",
            "epoch 4  | loss: 0.10375 | val_0_auc: 0.94227 |  0:17:41s\n",
            "epoch 5  | loss: 0.11321 | val_0_auc: 0.93734 |  0:21:11s\n",
            "epoch 6  | loss: 0.10705 | val_0_auc: 0.93987 |  0:24:42s\n",
            "epoch 7  | loss: 0.09925 | val_0_auc: 0.93964 |  0:28:16s\n",
            "\n",
            "Early stopping occurred at epoch 7 with best_epoch = 4 and best_val_0_auc = 0.94227\n"
          ]
        },
        {
          "name": "stderr",
          "output_type": "stream",
          "text": [
            "/usr/local/lib/python3.11/dist-packages/pytorch_tabnet/callbacks.py:172: UserWarning: Best weights from best epoch are automatically used!\n",
            "  warnings.warn(wrn_msg)\n",
            "[I 2025-02-24 07:23:30,179] Trial 1 finished with value: 0.05781411798843815 and parameters: {'n_d': 16, 'n_a': 24, 'n_steps': 3, 'gamma': 1.4042558841182553, 'lambda_sparse': 0.0001184352154046122, 'lr': 0.01161157454614417, 'batch_size': 1024}. Best is trial 1 with value: 0.05781411798843815.\n",
            "/usr/local/lib/python3.11/dist-packages/pytorch_tabnet/abstract_model.py:82: UserWarning: Device used : cuda\n",
            "  warnings.warn(f\"Device used : {self.device}\")\n"
          ]
        },
        {
          "name": "stdout",
          "output_type": "stream",
          "text": [
            "epoch 0  | loss: 0.2469  | val_0_auc: 0.92696 |  0:07:21s\n",
            "epoch 1  | loss: 0.17818 | val_0_auc: 0.93238 |  0:14:43s\n",
            "epoch 2  | loss: 0.14336 | val_0_auc: 0.93743 |  0:22:07s\n",
            "epoch 3  | loss: 0.12656 | val_0_auc: 0.93848 |  0:29:22s\n",
            "epoch 4  | loss: 0.11635 | val_0_auc: 0.9394  |  0:36:37s\n",
            "epoch 5  | loss: 0.11029 | val_0_auc: 0.94098 |  0:43:51s\n",
            "epoch 6  | loss: 0.10609 | val_0_auc: 0.9391  |  0:51:05s\n",
            "epoch 7  | loss: 0.10294 | val_0_auc: 0.94078 |  0:58:26s\n",
            "epoch 8  | loss: 0.09969 | val_0_auc: 0.94241 |  1:05:42s\n",
            "epoch 9  | loss: 0.09726 | val_0_auc: 0.94103 |  1:12:58s\n",
            "Stop training because you reached max_epochs = 10 with best_epoch = 8 and best_val_0_auc = 0.94241\n"
          ]
        },
        {
          "name": "stderr",
          "output_type": "stream",
          "text": [
            "/usr/local/lib/python3.11/dist-packages/pytorch_tabnet/callbacks.py:172: UserWarning: Best weights from best epoch are automatically used!\n",
            "  warnings.warn(wrn_msg)\n",
            "[I 2025-02-24 08:37:44,073] Trial 2 finished with value: 0.07072799704451058 and parameters: {'n_d': 8, 'n_a': 32, 'n_steps': 5, 'gamma': 1.2013699325636715, 'lambda_sparse': 8.118013599776976e-05, 'lr': 0.0024769671852982234, 'batch_size': 512}. Best is trial 2 with value: 0.07072799704451058.\n",
            "/usr/local/lib/python3.11/dist-packages/pytorch_tabnet/abstract_model.py:82: UserWarning: Device used : cuda\n",
            "  warnings.warn(f\"Device used : {self.device}\")\n"
          ]
        },
        {
          "name": "stdout",
          "output_type": "stream",
          "text": [
            "epoch 0  | loss: 0.20862 | val_0_auc: 0.92618 |  0:04:57s\n",
            "epoch 1  | loss: 0.16349 | val_0_auc: 0.93182 |  0:09:54s\n",
            "epoch 2  | loss: 0.15176 | val_0_auc: 0.93187 |  0:14:52s\n",
            "epoch 3  | loss: 0.14495 | val_0_auc: 0.93191 |  0:19:50s\n",
            "epoch 4  | loss: 0.13999 | val_0_auc: 0.93347 |  0:24:49s\n",
            "epoch 5  | loss: 0.13756 | val_0_auc: 0.93151 |  0:29:46s\n",
            "epoch 6  | loss: 0.13548 | val_0_auc: 0.93494 |  0:34:45s\n",
            "epoch 7  | loss: 0.1343  | val_0_auc: 0.93364 |  0:39:44s\n",
            "epoch 8  | loss: 0.13297 | val_0_auc: 0.93333 |  0:44:43s\n",
            "epoch 9  | loss: 0.13196 | val_0_auc: 0.93478 |  0:49:43s\n",
            "\n",
            "Early stopping occurred at epoch 9 with best_epoch = 6 and best_val_0_auc = 0.93494\n"
          ]
        },
        {
          "name": "stderr",
          "output_type": "stream",
          "text": [
            "/usr/local/lib/python3.11/dist-packages/pytorch_tabnet/callbacks.py:172: UserWarning: Best weights from best epoch are automatically used!\n",
            "  warnings.warn(wrn_msg)\n",
            "[I 2025-02-24 09:28:20,492] Trial 3 finished with value: 0.044582153302306526 and parameters: {'n_d': 16, 'n_a': 8, 'n_steps': 3, 'gamma': 1.803380970760287, 'lambda_sparse': 3.0969797272189e-05, 'lr': 0.01698971966572, 'batch_size': 512}. Best is trial 2 with value: 0.07072799704451058.\n",
            "/usr/local/lib/python3.11/dist-packages/pytorch_tabnet/abstract_model.py:82: UserWarning: Device used : cuda\n",
            "  warnings.warn(f\"Device used : {self.device}\")\n"
          ]
        },
        {
          "name": "stdout",
          "output_type": "stream",
          "text": [
            "epoch 0  | loss: 0.32408 | val_0_auc: 0.91165 |  0:03:56s\n",
            "epoch 1  | loss: 0.22759 | val_0_auc: 0.91896 |  0:07:51s\n",
            "epoch 2  | loss: 0.21504 | val_0_auc: 0.91764 |  0:11:47s\n",
            "epoch 3  | loss: 0.20914 | val_0_auc: 0.9243  |  0:15:47s\n",
            "epoch 4  | loss: 0.19512 | val_0_auc: 0.92379 |  0:19:54s\n",
            "epoch 5  | loss: 0.18538 | val_0_auc: 0.92639 |  0:23:59s\n",
            "epoch 6  | loss: 0.17351 | val_0_auc: 0.92842 |  0:28:06s\n",
            "epoch 7  | loss: 0.16033 | val_0_auc: 0.93001 |  0:32:13s\n",
            "epoch 8  | loss: 0.15183 | val_0_auc: 0.93008 |  0:36:21s\n",
            "epoch 9  | loss: 0.14842 | val_0_auc: 0.92967 |  0:40:23s\n",
            "Stop training because you reached max_epochs = 10 with best_epoch = 8 and best_val_0_auc = 0.93008\n"
          ]
        },
        {
          "name": "stderr",
          "output_type": "stream",
          "text": [
            "/usr/local/lib/python3.11/dist-packages/pytorch_tabnet/callbacks.py:172: UserWarning: Best weights from best epoch are automatically used!\n",
            "  warnings.warn(wrn_msg)\n",
            "[I 2025-02-24 10:09:29,134] Trial 4 finished with value: 0.04379727420300495 and parameters: {'n_d': 16, 'n_a': 16, 'n_steps': 5, 'gamma': 1.7730671585709485, 'lambda_sparse': 0.000367941884570388, 'lr': 0.003218942407696001, 'batch_size': 2048}. Best is trial 2 with value: 0.07072799704451058.\n",
            "/usr/local/lib/python3.11/dist-packages/pytorch_tabnet/abstract_model.py:82: UserWarning: Device used : cuda\n",
            "  warnings.warn(f\"Device used : {self.device}\")\n"
          ]
        },
        {
          "name": "stdout",
          "output_type": "stream",
          "text": [
            "epoch 0  | loss: 0.2387  | val_0_auc: 0.92588 |  0:06:09s\n",
            "epoch 1  | loss: 0.1778  | val_0_auc: 0.93269 |  0:12:17s\n",
            "epoch 2  | loss: 0.15367 | val_0_auc: 0.93721 |  0:18:25s\n",
            "epoch 3  | loss: 0.14059 | val_0_auc: 0.93737 |  0:24:38s\n",
            "epoch 4  | loss: 0.13151 | val_0_auc: 0.93947 |  0:30:47s\n",
            "epoch 5  | loss: 0.12506 | val_0_auc: 0.942   |  0:36:57s\n",
            "epoch 6  | loss: 0.12064 | val_0_auc: 0.94081 |  0:43:07s\n",
            "epoch 7  | loss: 0.11735 | val_0_auc: 0.94395 |  0:49:18s\n",
            "epoch 8  | loss: 0.11411 | val_0_auc: 0.94211 |  0:55:30s\n",
            "epoch 9  | loss: 0.11154 | val_0_auc: 0.94249 |  1:01:41s\n",
            "Stop training because you reached max_epochs = 10 with best_epoch = 7 and best_val_0_auc = 0.94395\n"
          ]
        },
        {
          "name": "stderr",
          "output_type": "stream",
          "text": [
            "/usr/local/lib/python3.11/dist-packages/pytorch_tabnet/callbacks.py:172: UserWarning: Best weights from best epoch are automatically used!\n",
            "  warnings.warn(wrn_msg)\n",
            "[I 2025-02-24 11:12:15,852] Trial 5 finished with value: 0.06735283240001746 and parameters: {'n_d': 24, 'n_a': 8, 'n_steps': 4, 'gamma': 1.1474202852784408, 'lambda_sparse': 3.356404160145193e-05, 'lr': 0.0016313316839177536, 'batch_size': 512}. Best is trial 2 with value: 0.07072799704451058.\n",
            "/usr/local/lib/python3.11/dist-packages/pytorch_tabnet/abstract_model.py:82: UserWarning: Device used : cuda\n",
            "  warnings.warn(f\"Device used : {self.device}\")\n"
          ]
        },
        {
          "name": "stdout",
          "output_type": "stream",
          "text": [
            "epoch 0  | loss: 0.27956 | val_0_auc: 0.91978 |  0:07:17s\n",
            "epoch 1  | loss: 0.20541 | val_0_auc: 0.92404 |  0:14:34s\n",
            "epoch 2  | loss: 0.17734 | val_0_auc: 0.93143 |  0:21:52s\n",
            "epoch 3  | loss: 0.15928 | val_0_auc: 0.93109 |  0:29:15s\n",
            "epoch 4  | loss: 0.14226 | val_0_auc: 0.93626 |  0:36:38s\n",
            "epoch 5  | loss: 0.1295  | val_0_auc: 0.93499 |  0:43:57s\n",
            "epoch 6  | loss: 0.12021 | val_0_auc: 0.93544 |  0:51:09s\n",
            "epoch 7  | loss: 0.11397 | val_0_auc: 0.93566 |  0:58:27s\n",
            "\n",
            "Early stopping occurred at epoch 7 with best_epoch = 4 and best_val_0_auc = 0.93626\n"
          ]
        },
        {
          "name": "stderr",
          "output_type": "stream",
          "text": [
            "/usr/local/lib/python3.11/dist-packages/pytorch_tabnet/callbacks.py:172: UserWarning: Best weights from best epoch are automatically used!\n",
            "  warnings.warn(wrn_msg)\n",
            "[I 2025-02-24 12:11:59,594] Trial 6 finished with value: 0.046375846808125884 and parameters: {'n_d': 32, 'n_a': 24, 'n_steps': 5, 'gamma': 1.7489427756439362, 'lambda_sparse': 2.2548385549015367e-05, 'lr': 0.0014424778331380774, 'batch_size': 512}. Best is trial 2 with value: 0.07072799704451058.\n",
            "/usr/local/lib/python3.11/dist-packages/pytorch_tabnet/abstract_model.py:82: UserWarning: Device used : cuda\n",
            "  warnings.warn(f\"Device used : {self.device}\")\n"
          ]
        },
        {
          "name": "stdout",
          "output_type": "stream",
          "text": [
            "epoch 0  | loss: 0.29867 | val_0_auc: 0.91165 |  0:05:07s\n",
            "epoch 1  | loss: 0.22572 | val_0_auc: 0.91884 |  0:10:13s\n",
            "epoch 2  | loss: 0.20688 | val_0_auc: 0.9266  |  0:15:17s\n",
            "epoch 3  | loss: 0.18586 | val_0_auc: 0.92903 |  0:20:20s\n",
            "epoch 4  | loss: 0.1554  | val_0_auc: 0.93197 |  0:25:27s\n",
            "epoch 5  | loss: 0.1379  | val_0_auc: 0.93325 |  0:30:34s\n",
            "epoch 6  | loss: 0.13769 | val_0_auc: 0.93332 |  0:35:41s\n",
            "epoch 7  | loss: 0.12014 | val_0_auc: 0.93661 |  0:40:46s\n",
            "epoch 8  | loss: 0.11423 | val_0_auc: 0.93597 |  0:45:52s\n",
            "epoch 9  | loss: 0.10345 | val_0_auc: 0.9378  |  0:50:58s\n",
            "Stop training because you reached max_epochs = 10 with best_epoch = 9 and best_val_0_auc = 0.9378\n"
          ]
        },
        {
          "name": "stderr",
          "output_type": "stream",
          "text": [
            "/usr/local/lib/python3.11/dist-packages/pytorch_tabnet/callbacks.py:172: UserWarning: Best weights from best epoch are automatically used!\n",
            "  warnings.warn(wrn_msg)\n",
            "[I 2025-02-24 13:03:54,521] Trial 7 finished with value: 0.059396630629635384 and parameters: {'n_d': 16, 'n_a': 32, 'n_steps': 7, 'gamma': 1.4566631758962956, 'lambda_sparse': 5.929492365707746e-05, 'lr': 0.0069954530029085775, 'batch_size': 2048}. Best is trial 2 with value: 0.07072799704451058.\n",
            "/usr/local/lib/python3.11/dist-packages/pytorch_tabnet/abstract_model.py:82: UserWarning: Device used : cuda\n",
            "  warnings.warn(f\"Device used : {self.device}\")\n"
          ]
        },
        {
          "name": "stdout",
          "output_type": "stream",
          "text": [
            "epoch 0  | loss: 0.30008 | val_0_auc: 0.9132  |  0:05:06s\n",
            "epoch 1  | loss: 0.22724 | val_0_auc: 0.92325 |  0:10:20s\n",
            "epoch 2  | loss: 0.21045 | val_0_auc: 0.92244 |  0:15:30s\n",
            "epoch 3  | loss: 0.18112 | val_0_auc: 0.93561 |  0:20:39s\n",
            "epoch 4  | loss: 0.16321 | val_0_auc: 0.93662 |  0:25:44s\n",
            "epoch 5  | loss: 0.13505 | val_0_auc: 0.93843 |  0:30:52s\n",
            "epoch 6  | loss: 0.12664 | val_0_auc: 0.93901 |  0:35:59s\n",
            "epoch 7  | loss: 0.11542 | val_0_auc: 0.93804 |  0:41:05s\n",
            "epoch 8  | loss: 0.10948 | val_0_auc: 0.93613 |  0:46:11s\n",
            "epoch 9  | loss: 0.10253 | val_0_auc: 0.93879 |  0:51:18s\n",
            "\n",
            "Early stopping occurred at epoch 9 with best_epoch = 6 and best_val_0_auc = 0.93901\n"
          ]
        },
        {
          "name": "stderr",
          "output_type": "stream",
          "text": [
            "/usr/local/lib/python3.11/dist-packages/pytorch_tabnet/callbacks.py:172: UserWarning: Best weights from best epoch are automatically used!\n",
            "  warnings.warn(wrn_msg)\n",
            "[I 2025-02-24 13:56:09,082] Trial 8 finished with value: 0.049254092407554795 and parameters: {'n_d': 32, 'n_a': 16, 'n_steps': 7, 'gamma': 1.331090837422415, 'lambda_sparse': 8.453824312488373e-05, 'lr': 0.007044047901296326, 'batch_size': 2048}. Best is trial 2 with value: 0.07072799704451058.\n",
            "/usr/local/lib/python3.11/dist-packages/pytorch_tabnet/abstract_model.py:82: UserWarning: Device used : cuda\n",
            "  warnings.warn(f\"Device used : {self.device}\")\n"
          ]
        },
        {
          "name": "stdout",
          "output_type": "stream",
          "text": [
            "epoch 0  | loss: 0.23001 | val_0_auc: 0.92036 |  0:05:03s\n",
            "epoch 1  | loss: 0.16418 | val_0_auc: 0.93109 |  0:10:06s\n",
            "epoch 2  | loss: 0.13564 | val_0_auc: 0.94324 |  0:15:09s\n",
            "epoch 3  | loss: 0.11943 | val_0_auc: 0.94217 |  0:20:12s\n",
            "epoch 4  | loss: 0.11141 | val_0_auc: 0.94317 |  0:25:13s\n",
            "epoch 5  | loss: 0.10553 | val_0_auc: 0.94317 |  0:30:15s\n",
            "\n",
            "Early stopping occurred at epoch 5 with best_epoch = 2 and best_val_0_auc = 0.94324\n"
          ]
        },
        {
          "name": "stderr",
          "output_type": "stream",
          "text": [
            "/usr/local/lib/python3.11/dist-packages/pytorch_tabnet/callbacks.py:172: UserWarning: Best weights from best epoch are automatically used!\n",
            "  warnings.warn(wrn_msg)\n",
            "[I 2025-02-24 14:27:19,921] Trial 9 finished with value: 0.04890707013515104 and parameters: {'n_d': 16, 'n_a': 24, 'n_steps': 5, 'gamma': 1.152718416359144, 'lambda_sparse': 4.457412540320173e-05, 'lr': 0.011783345415092319, 'batch_size': 1024}. Best is trial 2 with value: 0.07072799704451058.\n"
          ]
        },
        {
          "name": "stdout",
          "output_type": "stream",
          "text": [
            "Best hyperparameters: {'n_d': 8, 'n_a': 32, 'n_steps': 5, 'gamma': 1.2013699325636715, 'lambda_sparse': 8.118013599776976e-05, 'lr': 0.0024769671852982234, 'batch_size': 512}\n"
          ]
        }
      ],
      "source": [
        "import optuna\n",
        "\n",
        "def objective(trial):\n",
        "    # Suggest hyperparameters\n",
        "    n_d = trial.suggest_int(\"n_d\", 8, 32, step=8)\n",
        "    n_a = trial.suggest_int(\"n_a\", 8, 32, step=8)\n",
        "    n_steps = trial.suggest_int(\"n_steps\", 3, 7)\n",
        "    gamma = trial.suggest_float(\"gamma\", 1.0, 2.0)\n",
        "    lambda_sparse = trial.suggest_float(\"lambda_sparse\", 1e-5, 1e-3, log=True)\n",
        "    lr = trial.suggest_float(\"lr\", 1e-3, 2e-2, log=True)\n",
        "    batch_size = trial.suggest_categorical(\"batch_size\", [512, 1024, 2048])\n",
        "\n",
        "    tabnet_model = TabNetClassifier(\n",
        "        n_d=n_d,\n",
        "        n_a=n_a,\n",
        "        n_steps=n_steps,\n",
        "        gamma=gamma,\n",
        "        lambda_sparse=lambda_sparse,\n",
        "        optimizer_fn=torch.optim.Adam,\n",
        "        optimizer_params=dict(lr=lr),\n",
        "        mask_type=\"sparsemax\",\n",
        "        verbose=1\n",
        "    )\n",
        "\n",
        "    tabnet_model.fit(\n",
        "        X_resampled.values, y_resampled.values,\n",
        "        eval_set=[(X_test.values, y_test.values)],\n",
        "        eval_metric=[\"auc\"],\n",
        "        max_epochs=10,\n",
        "        patience=3,\n",
        "        batch_size=batch_size,\n",
        "        virtual_batch_size=128,\n",
        "        weights=class_weight_dict,\n",
        "        compute_importance=False\n",
        "    )\n",
        "\n",
        "    # Evaluate PR-AUC\n",
        "    y_pred_proba = tabnet_model.predict_proba(X_test.values)[:, 1]\n",
        "    pr_auc = average_precision_score(y_test, y_pred_proba)\n",
        "\n",
        "    return pr_auc\n",
        "\n",
        "study = optuna.create_study(direction=\"maximize\")  # Maximize PR-AUC\n",
        "study.optimize(objective, n_trials=10)\n",
        "\n",
        "# Best hyperparameters\n",
        "print(\"Best hyperparameters:\", study.best_params)\n"
      ]
    },
    {
      "cell_type": "code",
      "execution_count": 62,
      "metadata": {
        "colab": {
          "base_uri": "https://localhost:8080/",
          "height": 575
        },
        "id": "WoQSEq5QYDx2",
        "outputId": "79d49f02-41be-4005-c4e4-98201c4c55c9"
      },
      "outputs": [
        {
          "name": "stderr",
          "output_type": "stream",
          "text": [
            "/usr/local/lib/python3.11/dist-packages/pytorch_tabnet/abstract_model.py:82: UserWarning: Device used : cuda\n",
            "  warnings.warn(f\"Device used : {self.device}\")\n"
          ]
        },
        {
          "name": "stdout",
          "output_type": "stream",
          "text": [
            "epoch 0  | loss: 0.2469  | val_0_auc: 0.92696 |  0:07:14s\n",
            "epoch 1  | loss: 0.17818 | val_0_auc: 0.93238 |  0:14:28s\n",
            "epoch 2  | loss: 0.14336 | val_0_auc: 0.93743 |  0:21:43s\n",
            "epoch 3  | loss: 0.12656 | val_0_auc: 0.93848 |  0:28:55s\n",
            "epoch 4  | loss: 0.11635 | val_0_auc: 0.9394  |  0:36:09s\n",
            "epoch 5  | loss: 0.11029 | val_0_auc: 0.94098 |  0:43:22s\n",
            "epoch 6  | loss: 0.10609 | val_0_auc: 0.9391  |  0:50:33s\n",
            "epoch 7  | loss: 0.10294 | val_0_auc: 0.94078 |  0:57:45s\n",
            "epoch 8  | loss: 0.09969 | val_0_auc: 0.94241 |  1:04:57s\n",
            "epoch 9  | loss: 0.09726 | val_0_auc: 0.94103 |  1:12:12s\n",
            "Stop training because you reached max_epochs = 10 with best_epoch = 8 and best_val_0_auc = 0.94241\n",
            "Successfully saved model at best_tabnet_model.zip.zip\n"
          ]
        },
        {
          "name": "stderr",
          "output_type": "stream",
          "text": [
            "/usr/local/lib/python3.11/dist-packages/pytorch_tabnet/callbacks.py:172: UserWarning: Best weights from best epoch are automatically used!\n",
            "  warnings.warn(wrn_msg)\n"
          ]
        },
        {
          "ename": "FileNotFoundError",
          "evalue": "Cannot find file: best_tabnet_model.zip",
          "output_type": "error",
          "traceback": [
            "\u001b[0;31m---------------------------------------------------------------------------\u001b[0m",
            "\u001b[0;31mFileNotFoundError\u001b[0m                         Traceback (most recent call last)",
            "\u001b[0;32m<ipython-input-62-26aed1134132>\u001b[0m in \u001b[0;36m<cell line: 0>\u001b[0;34m()\u001b[0m\n\u001b[1;32m     28\u001b[0m \u001b[0;31m# Save the best model\u001b[0m\u001b[0;34m\u001b[0m\u001b[0;34m\u001b[0m\u001b[0m\n\u001b[1;32m     29\u001b[0m \u001b[0mbest_tabnet_model\u001b[0m\u001b[0;34m.\u001b[0m\u001b[0msave_model\u001b[0m\u001b[0;34m(\u001b[0m\u001b[0;34m\"best_tabnet_model.zip\"\u001b[0m\u001b[0;34m)\u001b[0m\u001b[0;34m\u001b[0m\u001b[0;34m\u001b[0m\u001b[0m\n\u001b[0;32m---> 30\u001b[0;31m \u001b[0mfiles\u001b[0m\u001b[0;34m.\u001b[0m\u001b[0mdownload\u001b[0m\u001b[0;34m(\u001b[0m\u001b[0;34m\"best_tabnet_model.zip\"\u001b[0m\u001b[0;34m)\u001b[0m\u001b[0;34m\u001b[0m\u001b[0;34m\u001b[0m\u001b[0m\n\u001b[0m",
            "\u001b[0;32m/usr/local/lib/python3.11/dist-packages/google/colab/files.py\u001b[0m in \u001b[0;36mdownload\u001b[0;34m(filename)\u001b[0m\n\u001b[1;32m    231\u001b[0m   \u001b[0;32mif\u001b[0m \u001b[0;32mnot\u001b[0m \u001b[0m_os\u001b[0m\u001b[0;34m.\u001b[0m\u001b[0mpath\u001b[0m\u001b[0;34m.\u001b[0m\u001b[0mexists\u001b[0m\u001b[0;34m(\u001b[0m\u001b[0mfilename\u001b[0m\u001b[0;34m)\u001b[0m\u001b[0;34m:\u001b[0m\u001b[0;34m\u001b[0m\u001b[0;34m\u001b[0m\u001b[0m\n\u001b[1;32m    232\u001b[0m     \u001b[0mmsg\u001b[0m \u001b[0;34m=\u001b[0m \u001b[0;34m'Cannot find file: {}'\u001b[0m\u001b[0;34m.\u001b[0m\u001b[0mformat\u001b[0m\u001b[0;34m(\u001b[0m\u001b[0mfilename\u001b[0m\u001b[0;34m)\u001b[0m\u001b[0;34m\u001b[0m\u001b[0;34m\u001b[0m\u001b[0m\n\u001b[0;32m--> 233\u001b[0;31m     \u001b[0;32mraise\u001b[0m \u001b[0mFileNotFoundError\u001b[0m\u001b[0;34m(\u001b[0m\u001b[0mmsg\u001b[0m\u001b[0;34m)\u001b[0m  \u001b[0;31m# pylint: disable=undefined-variable\u001b[0m\u001b[0;34m\u001b[0m\u001b[0;34m\u001b[0m\u001b[0m\n\u001b[0m\u001b[1;32m    234\u001b[0m \u001b[0;34m\u001b[0m\u001b[0m\n\u001b[1;32m    235\u001b[0m   \u001b[0mcomm_manager\u001b[0m \u001b[0;34m=\u001b[0m \u001b[0m_IPython\u001b[0m\u001b[0;34m.\u001b[0m\u001b[0mget_ipython\u001b[0m\u001b[0;34m(\u001b[0m\u001b[0;34m)\u001b[0m\u001b[0;34m.\u001b[0m\u001b[0mkernel\u001b[0m\u001b[0;34m.\u001b[0m\u001b[0mcomm_manager\u001b[0m\u001b[0;34m\u001b[0m\u001b[0;34m\u001b[0m\u001b[0m\n",
            "\u001b[0;31mFileNotFoundError\u001b[0m: Cannot find file: best_tabnet_model.zip"
          ]
        }
      ],
      "source": [
        "best_params = study.best_params  # Get the best hyperparameters\n",
        "\n",
        "# Train TabNet with the best hyperparameters\n",
        "best_tabnet_model = TabNetClassifier(\n",
        "    n_d=best_params[\"n_d\"],\n",
        "    n_a=best_params[\"n_a\"],\n",
        "    n_steps=best_params[\"n_steps\"],\n",
        "    gamma=best_params[\"gamma\"],\n",
        "    lambda_sparse=best_params[\"lambda_sparse\"],\n",
        "    optimizer_fn=torch.optim.Adam,\n",
        "    optimizer_params=dict(lr=best_params[\"lr\"]),\n",
        "    mask_type=\"sparsemax\",\n",
        "    verbose=1\n",
        ")\n",
        "\n",
        "best_tabnet_model.fit(\n",
        "    X_resampled.values, y_resampled.values,\n",
        "    eval_set=[(X_test.values, y_test.values)],\n",
        "    eval_metric=[\"auc\"],\n",
        "    max_epochs=10,\n",
        "    patience=3,\n",
        "    batch_size=best_params[\"batch_size\"],\n",
        "    virtual_batch_size=128,\n",
        "    weights=class_weight_dict,\n",
        "    compute_importance=False\n",
        ")\n",
        "\n",
        "# Save the best model\n",
        "best_tabnet_model.save_model(\"best_tabnet_model\")\n",
        "files.download(\"best_tabnet_model.zip\")\n"
      ]
    },
    {
      "cell_type": "code",
      "execution_count": 75,
      "metadata": {
        "colab": {
          "base_uri": "https://localhost:8080/",
          "height": 720
        },
        "id": "omLIJ_sHYYHL",
        "outputId": "d47f2e99-d241-4768-89cb-a0c693c325d1"
      },
      "outputs": [
        {
          "name": "stdout",
          "output_type": "stream",
          "text": [
            "              precision    recall  f1-score   support\n",
            "\n",
            "           0       1.00      0.96      0.98   1780327\n",
            "           1       0.03      0.76      0.05      2666\n",
            "\n",
            "    accuracy                           0.96   1782993\n",
            "   macro avg       0.51      0.86      0.51   1782993\n",
            "weighted avg       1.00      0.96      0.98   1782993\n",
            "\n"
          ]
        },
        {
          "data": {
            "image/png": "[encoded data removed]",
            "text/plain": [
              "<Figure size 800x600 with 1 Axes>"
            ]
          },
          "metadata": {},
          "output_type": "display_data"
        }
      ],
      "source": [
        "# Use the trained model for predictions\n",
        "y_pred_proba = best_tabnet_model.predict_proba(X_test.values)[:, 1]\n",
        "y_pred = (y_pred_proba > 0.5).astype(int)\n",
        "\n",
        "# Generate the classification report\n",
        "print(classification_report(y_test.values, y_pred))\n",
        "\n",
        "# Compute precision-recall curve\n",
        "precision, recall, thresholds = precision_recall_curve(y_test, y_pred_proba)\n",
        "\n",
        "# Plot precision-recall curve\n",
        "plt.figure(figsize=(8, 6))\n",
        "plt.plot(recall, precision, color='blue', lw=2)\n",
        "plt.xlabel('Recall')\n",
        "plt.ylabel('Precision')\n",
        "plt.title('Precision-Recall Curve')\n",
        "plt.show()"
      ]
    },
    {
      "cell_type": "markdown",
      "metadata": {},
      "source": [
        "## **Test Loading**"
      ]
    },
    {
      "cell_type": "code",
      "execution_count": null,
      "metadata": {
        "colab": {
          "base_uri": "https://localhost:8080/"
        },
        "id": "m3a7ZbQdocrP",
        "outputId": "db868efc-f8ae-45a5-9f4c-5d87230e49b1"
      },
      "outputs": [],
      "source": [
        "test_model = TabNetClassifier()\n",
        "test_model.load_model(\"best_tabnet_model.zip\")\n",
        "\n",
        "test = test_model.predict(X_test.values)\n",
        "print(classification_report(y_test.values, test))"
      ]
    }
  ],
  "metadata": {
    "accelerator": "GPU",
    "colab": {
      "collapsed_sections": [
        "SUi7pnA_lieu"
      ],
      "gpuType": "T4",
      "machine_shape": "hm",
      "provenance": []
    },
    "kernelspec": {
      "display_name": "Python 3",
      "name": "python3"
    },
    "language_info": {
      "codemirror_mode": {
        "name": "ipython",
        "version": 3
      },
      "file_extension": ".py",
      "mimetype": "text/x-python",
      "name": "python",
      "nbconvert_exporter": "python",
      "pygments_lexer": "ipython3",
      "version": "3.12.3"
    }
  },
  "nbformat": 4,
  "nbformat_minor": 0
}
