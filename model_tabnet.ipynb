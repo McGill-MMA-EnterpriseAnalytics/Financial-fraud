{
  "cells": [
    {
      "cell_type": "markdown",
      "metadata": {
        "id": "SUi7pnA_lieu"
      },
      "source": [
        "### **Importing Libraries**"
      ]
    },
    {
      "cell_type": "code",
      "execution_count": 1,
      "metadata": {
        "colab": {
          "base_uri": "https://localhost:8080/"
        },
        "id": "R4imrJ7j8kub",
        "outputId": "a731b9ce-3466-4905-c78b-a267a77cd678"
      },
      "outputs": [
        {
          "output_type": "stream",
          "name": "stdout",
          "text": [
            "Collecting pytorch_tabnet\n",
            "  Downloading pytorch_tabnet-4.1.0-py3-none-any.whl.metadata (15 kB)\n",
            "Collecting optuna\n",
            "  Downloading optuna-4.2.1-py3-none-any.whl.metadata (17 kB)\n",
            "Requirement already satisfied: numpy>=1.17 in /usr/local/lib/python3.11/dist-packages (from pytorch_tabnet) (1.26.4)\n",
            "Requirement already satisfied: scikit_learn>0.21 in /usr/local/lib/python3.11/dist-packages (from pytorch_tabnet) (1.6.1)\n",
            "Requirement already satisfied: scipy>1.4 in /usr/local/lib/python3.11/dist-packages (from pytorch_tabnet) (1.13.1)\n",
            "Requirement already satisfied: torch>=1.3 in /usr/local/lib/python3.11/dist-packages (from pytorch_tabnet) (2.5.1+cu124)\n",
            "Requirement already satisfied: tqdm>=4.36 in /usr/local/lib/python3.11/dist-packages (from pytorch_tabnet) (4.67.1)\n",
            "Collecting alembic>=1.5.0 (from optuna)\n",
            "  Downloading alembic-1.14.1-py3-none-any.whl.metadata (7.4 kB)\n",
            "Collecting colorlog (from optuna)\n",
            "  Downloading colorlog-6.9.0-py3-none-any.whl.metadata (10 kB)\n",
            "Requirement already satisfied: packaging>=20.0 in /usr/local/lib/python3.11/dist-packages (from optuna) (24.2)\n",
            "Requirement already satisfied: sqlalchemy>=1.4.2 in /usr/local/lib/python3.11/dist-packages (from optuna) (2.0.38)\n",
            "Requirement already satisfied: PyYAML in /usr/local/lib/python3.11/dist-packages (from optuna) (6.0.2)\n",
            "Collecting Mako (from alembic>=1.5.0->optuna)\n",
            "  Downloading Mako-1.3.9-py3-none-any.whl.metadata (2.9 kB)\n",
            "Requirement already satisfied: typing-extensions>=4 in /usr/local/lib/python3.11/dist-packages (from alembic>=1.5.0->optuna) (4.12.2)\n",
            "Requirement already satisfied: joblib>=1.2.0 in /usr/local/lib/python3.11/dist-packages (from scikit_learn>0.21->pytorch_tabnet) (1.4.2)\n",
            "Requirement already satisfied: threadpoolctl>=3.1.0 in /usr/local/lib/python3.11/dist-packages (from scikit_learn>0.21->pytorch_tabnet) (3.5.0)\n",
            "Requirement already satisfied: greenlet!=0.4.17 in /usr/local/lib/python3.11/dist-packages (from sqlalchemy>=1.4.2->optuna) (3.1.1)\n",
            "Requirement already satisfied: filelock in /usr/local/lib/python3.11/dist-packages (from torch>=1.3->pytorch_tabnet) (3.17.0)\n",
            "Requirement already satisfied: networkx in /usr/local/lib/python3.11/dist-packages (from torch>=1.3->pytorch_tabnet) (3.4.2)\n",
            "Requirement already satisfied: jinja2 in /usr/local/lib/python3.11/dist-packages (from torch>=1.3->pytorch_tabnet) (3.1.5)\n",
            "Requirement already satisfied: fsspec in /usr/local/lib/python3.11/dist-packages (from torch>=1.3->pytorch_tabnet) (2024.10.0)\n",
            "Collecting nvidia-cuda-nvrtc-cu12==12.4.127 (from torch>=1.3->pytorch_tabnet)\n",
            "  Downloading nvidia_cuda_nvrtc_cu12-12.4.127-py3-none-manylinux2014_x86_64.whl.metadata (1.5 kB)\n",
            "Collecting nvidia-cuda-runtime-cu12==12.4.127 (from torch>=1.3->pytorch_tabnet)\n",
            "  Downloading nvidia_cuda_runtime_cu12-12.4.127-py3-none-manylinux2014_x86_64.whl.metadata (1.5 kB)\n",
            "Collecting nvidia-cuda-cupti-cu12==12.4.127 (from torch>=1.3->pytorch_tabnet)\n",
            "  Downloading nvidia_cuda_cupti_cu12-12.4.127-py3-none-manylinux2014_x86_64.whl.metadata (1.6 kB)\n",
            "Collecting nvidia-cudnn-cu12==9.1.0.70 (from torch>=1.3->pytorch_tabnet)\n",
            "  Downloading nvidia_cudnn_cu12-9.1.0.70-py3-none-manylinux2014_x86_64.whl.metadata (1.6 kB)\n",
            "Collecting nvidia-cublas-cu12==12.4.5.8 (from torch>=1.3->pytorch_tabnet)\n",
            "  Downloading nvidia_cublas_cu12-12.4.5.8-py3-none-manylinux2014_x86_64.whl.metadata (1.5 kB)\n",
            "Collecting nvidia-cufft-cu12==11.2.1.3 (from torch>=1.3->pytorch_tabnet)\n",
            "  Downloading nvidia_cufft_cu12-11.2.1.3-py3-none-manylinux2014_x86_64.whl.metadata (1.5 kB)\n",
            "Collecting nvidia-curand-cu12==10.3.5.147 (from torch>=1.3->pytorch_tabnet)\n",
            "  Downloading nvidia_curand_cu12-10.3.5.147-py3-none-manylinux2014_x86_64.whl.metadata (1.5 kB)\n",
            "Collecting nvidia-cusolver-cu12==11.6.1.9 (from torch>=1.3->pytorch_tabnet)\n",
            "  Downloading nvidia_cusolver_cu12-11.6.1.9-py3-none-manylinux2014_x86_64.whl.metadata (1.6 kB)\n",
            "Collecting nvidia-cusparse-cu12==12.3.1.170 (from torch>=1.3->pytorch_tabnet)\n",
            "  Downloading nvidia_cusparse_cu12-12.3.1.170-py3-none-manylinux2014_x86_64.whl.metadata (1.6 kB)\n",
            "Requirement already satisfied: nvidia-nccl-cu12==2.21.5 in /usr/local/lib/python3.11/dist-packages (from torch>=1.3->pytorch_tabnet) (2.21.5)\n",
            "Requirement already satisfied: nvidia-nvtx-cu12==12.4.127 in /usr/local/lib/python3.11/dist-packages (from torch>=1.3->pytorch_tabnet) (12.4.127)\n",
            "Collecting nvidia-nvjitlink-cu12==12.4.127 (from torch>=1.3->pytorch_tabnet)\n",
            "  Downloading nvidia_nvjitlink_cu12-12.4.127-py3-none-manylinux2014_x86_64.whl.metadata (1.5 kB)\n",
            "Requirement already satisfied: triton==3.1.0 in /usr/local/lib/python3.11/dist-packages (from torch>=1.3->pytorch_tabnet) (3.1.0)\n",
            "Requirement already satisfied: sympy==1.13.1 in /usr/local/lib/python3.11/dist-packages (from torch>=1.3->pytorch_tabnet) (1.13.1)\n",
            "Requirement already satisfied: mpmath<1.4,>=1.1.0 in /usr/local/lib/python3.11/dist-packages (from sympy==1.13.1->torch>=1.3->pytorch_tabnet) (1.3.0)\n",
            "Requirement already satisfied: MarkupSafe>=2.0 in /usr/local/lib/python3.11/dist-packages (from jinja2->torch>=1.3->pytorch_tabnet) (3.0.2)\n",
            "Downloading pytorch_tabnet-4.1.0-py3-none-any.whl (44 kB)\n",
            "\u001b[2K   \u001b[90m━━━━━━━━━━━━━━━━━━━━━━━━━━━━━━━━━━━━━━━━\u001b[0m \u001b[32m44.5/44.5 kB\u001b[0m \u001b[31m2.0 MB/s\u001b[0m eta \u001b[36m0:00:00\u001b[0m\n",
            "\u001b[?25hDownloading optuna-4.2.1-py3-none-any.whl (383 kB)\n",
            "\u001b[2K   \u001b[90m━━━━━━━━━━━━━━━━━━━━━━━━━━━━━━━━━━━━━━━━\u001b[0m \u001b[32m383.6/383.6 kB\u001b[0m \u001b[31m10.7 MB/s\u001b[0m eta \u001b[36m0:00:00\u001b[0m\n",
            "\u001b[?25hDownloading alembic-1.14.1-py3-none-any.whl (233 kB)\n",
            "\u001b[2K   \u001b[90m━━━━━━━━━━━━━━━━━━━━━━━━━━━━━━━━━━━━━━━━\u001b[0m \u001b[32m233.6/233.6 kB\u001b[0m \u001b[31m22.1 MB/s\u001b[0m eta \u001b[36m0:00:00\u001b[0m\n",
            "\u001b[?25hDownloading nvidia_cublas_cu12-12.4.5.8-py3-none-manylinux2014_x86_64.whl (363.4 MB)\n",
            "\u001b[2K   \u001b[90m━━━━━━━━━━━━━━━━━━━━━━━━━━━━━━━━━━━━━━━━\u001b[0m \u001b[32m363.4/363.4 MB\u001b[0m \u001b[31m3.0 MB/s\u001b[0m eta \u001b[36m0:00:00\u001b[0m\n",
            "\u001b[?25hDownloading nvidia_cuda_cupti_cu12-12.4.127-py3-none-manylinux2014_x86_64.whl (13.8 MB)\n",
            "\u001b[2K   \u001b[90m━━━━━━━━━━━━━━━━━━━━━━━━━━━━━━━━━━━━━━━━\u001b[0m \u001b[32m13.8/13.8 MB\u001b[0m \u001b[31m115.0 MB/s\u001b[0m eta \u001b[36m0:00:00\u001b[0m\n",
            "\u001b[?25hDownloading nvidia_cuda_nvrtc_cu12-12.4.127-py3-none-manylinux2014_x86_64.whl (24.6 MB)\n",
            "\u001b[2K   \u001b[90m━━━━━━━━━━━━━━━━━━━━━━━━━━━━━━━━━━━━━━━━\u001b[0m \u001b[32m24.6/24.6 MB\u001b[0m \u001b[31m90.0 MB/s\u001b[0m eta \u001b[36m0:00:00\u001b[0m\n",
            "\u001b[?25hDownloading nvidia_cuda_runtime_cu12-12.4.127-py3-none-manylinux2014_x86_64.whl (883 kB)\n",
            "\u001b[2K   \u001b[90m━━━━━━━━━━━━━━━━━━━━━━━━━━━━━━━━━━━━━━━━\u001b[0m \u001b[32m883.7/883.7 kB\u001b[0m \u001b[31m55.4 MB/s\u001b[0m eta \u001b[36m0:00:00\u001b[0m\n",
            "\u001b[?25hDownloading nvidia_cudnn_cu12-9.1.0.70-py3-none-manylinux2014_x86_64.whl (664.8 MB)\n",
            "\u001b[2K   \u001b[90m━━━━━━━━━━━━━━━━━━━━━━━━━━━━━━━━━━━━━━━━\u001b[0m \u001b[32m664.8/664.8 MB\u001b[0m \u001b[31m2.4 MB/s\u001b[0m eta \u001b[36m0:00:00\u001b[0m\n",
            "\u001b[?25hDownloading nvidia_cufft_cu12-11.2.1.3-py3-none-manylinux2014_x86_64.whl (211.5 MB)\n",
            "\u001b[2K   \u001b[90m━━━━━━━━━━━━━━━━━━━━━━━━━━━━━━━━━━━━━━━━\u001b[0m \u001b[32m211.5/211.5 MB\u001b[0m \u001b[31m4.6 MB/s\u001b[0m eta \u001b[36m0:00:00\u001b[0m\n",
            "\u001b[?25hDownloading nvidia_curand_cu12-10.3.5.147-py3-none-manylinux2014_x86_64.whl (56.3 MB)\n",
            "\u001b[2K   \u001b[90m━━━━━━━━━━━━━━━━━━━━━━━━━━━━━━━━━━━━━━━━\u001b[0m \u001b[32m56.3/56.3 MB\u001b[0m \u001b[31m40.2 MB/s\u001b[0m eta \u001b[36m0:00:00\u001b[0m\n",
            "\u001b[?25hDownloading nvidia_cusolver_cu12-11.6.1.9-py3-none-manylinux2014_x86_64.whl (127.9 MB)\n",
            "\u001b[2K   \u001b[90m━━━━━━━━━━━━━━━━━━━━━━━━━━━━━━━━━━━━━━━━\u001b[0m \u001b[32m127.9/127.9 MB\u001b[0m \u001b[31m18.4 MB/s\u001b[0m eta \u001b[36m0:00:00\u001b[0m\n",
            "\u001b[?25hDownloading nvidia_cusparse_cu12-12.3.1.170-py3-none-manylinux2014_x86_64.whl (207.5 MB)\n",
            "\u001b[2K   \u001b[90m━━━━━━━━━━━━━━━━━━━━━━━━━━━━━━━━━━━━━━━━\u001b[0m \u001b[32m207.5/207.5 MB\u001b[0m \u001b[31m4.2 MB/s\u001b[0m eta \u001b[36m0:00:00\u001b[0m\n",
            "\u001b[?25hDownloading nvidia_nvjitlink_cu12-12.4.127-py3-none-manylinux2014_x86_64.whl (21.1 MB)\n",
            "\u001b[2K   \u001b[90m━━━━━━━━━━━━━━━━━━━━━━━━━━━━━━━━━━━━━━━━\u001b[0m \u001b[32m21.1/21.1 MB\u001b[0m \u001b[31m93.7 MB/s\u001b[0m eta \u001b[36m0:00:00\u001b[0m\n",
            "\u001b[?25hDownloading colorlog-6.9.0-py3-none-any.whl (11 kB)\n",
            "Downloading Mako-1.3.9-py3-none-any.whl (78 kB)\n",
            "\u001b[2K   \u001b[90m━━━━━━━━━━━━━━━━━━━━━━━━━━━━━━━━━━━━━━━━\u001b[0m \u001b[32m78.5/78.5 kB\u001b[0m \u001b[31m8.5 MB/s\u001b[0m eta \u001b[36m0:00:00\u001b[0m\n",
            "\u001b[?25hInstalling collected packages: nvidia-nvjitlink-cu12, nvidia-curand-cu12, nvidia-cufft-cu12, nvidia-cuda-runtime-cu12, nvidia-cuda-nvrtc-cu12, nvidia-cuda-cupti-cu12, nvidia-cublas-cu12, Mako, colorlog, nvidia-cusparse-cu12, nvidia-cudnn-cu12, alembic, optuna, nvidia-cusolver-cu12, pytorch_tabnet\n",
            "  Attempting uninstall: nvidia-nvjitlink-cu12\n",
            "    Found existing installation: nvidia-nvjitlink-cu12 12.5.82\n",
            "    Uninstalling nvidia-nvjitlink-cu12-12.5.82:\n",
            "      Successfully uninstalled nvidia-nvjitlink-cu12-12.5.82\n",
            "  Attempting uninstall: nvidia-curand-cu12\n",
            "    Found existing installation: nvidia-curand-cu12 10.3.6.82\n",
            "    Uninstalling nvidia-curand-cu12-10.3.6.82:\n",
            "      Successfully uninstalled nvidia-curand-cu12-10.3.6.82\n",
            "  Attempting uninstall: nvidia-cufft-cu12\n",
            "    Found existing installation: nvidia-cufft-cu12 11.2.3.61\n",
            "    Uninstalling nvidia-cufft-cu12-11.2.3.61:\n",
            "      Successfully uninstalled nvidia-cufft-cu12-11.2.3.61\n",
            "  Attempting uninstall: nvidia-cuda-runtime-cu12\n",
            "    Found existing installation: nvidia-cuda-runtime-cu12 12.5.82\n",
            "    Uninstalling nvidia-cuda-runtime-cu12-12.5.82:\n",
            "      Successfully uninstalled nvidia-cuda-runtime-cu12-12.5.82\n",
            "  Attempting uninstall: nvidia-cuda-nvrtc-cu12\n",
            "    Found existing installation: nvidia-cuda-nvrtc-cu12 12.5.82\n",
            "    Uninstalling nvidia-cuda-nvrtc-cu12-12.5.82:\n",
            "      Successfully uninstalled nvidia-cuda-nvrtc-cu12-12.5.82\n",
            "  Attempting uninstall: nvidia-cuda-cupti-cu12\n",
            "    Found existing installation: nvidia-cuda-cupti-cu12 12.5.82\n",
            "    Uninstalling nvidia-cuda-cupti-cu12-12.5.82:\n",
            "      Successfully uninstalled nvidia-cuda-cupti-cu12-12.5.82\n",
            "  Attempting uninstall: nvidia-cublas-cu12\n",
            "    Found existing installation: nvidia-cublas-cu12 12.5.3.2\n",
            "    Uninstalling nvidia-cublas-cu12-12.5.3.2:\n",
            "      Successfully uninstalled nvidia-cublas-cu12-12.5.3.2\n",
            "  Attempting uninstall: nvidia-cusparse-cu12\n",
            "    Found existing installation: nvidia-cusparse-cu12 12.5.1.3\n",
            "    Uninstalling nvidia-cusparse-cu12-12.5.1.3:\n",
            "      Successfully uninstalled nvidia-cusparse-cu12-12.5.1.3\n",
            "  Attempting uninstall: nvidia-cudnn-cu12\n",
            "    Found existing installation: nvidia-cudnn-cu12 9.3.0.75\n",
            "    Uninstalling nvidia-cudnn-cu12-9.3.0.75:\n",
            "      Successfully uninstalled nvidia-cudnn-cu12-9.3.0.75\n",
            "  Attempting uninstall: nvidia-cusolver-cu12\n",
            "    Found existing installation: nvidia-cusolver-cu12 11.6.3.83\n",
            "    Uninstalling nvidia-cusolver-cu12-11.6.3.83:\n",
            "      Successfully uninstalled nvidia-cusolver-cu12-11.6.3.83\n",
            "Successfully installed Mako-1.3.9 alembic-1.14.1 colorlog-6.9.0 nvidia-cublas-cu12-12.4.5.8 nvidia-cuda-cupti-cu12-12.4.127 nvidia-cuda-nvrtc-cu12-12.4.127 nvidia-cuda-runtime-cu12-12.4.127 nvidia-cudnn-cu12-9.1.0.70 nvidia-cufft-cu12-11.2.1.3 nvidia-curand-cu12-10.3.5.147 nvidia-cusolver-cu12-11.6.1.9 nvidia-cusparse-cu12-12.3.1.170 nvidia-nvjitlink-cu12-12.4.127 optuna-4.2.1 pytorch_tabnet-4.1.0\n"
          ]
        }
      ],
      "source": [
        "!pip install pytorch_tabnet optuna"
      ]
    },
    {
      "cell_type": "code",
      "execution_count": 2,
      "metadata": {
        "id": "DAFrH8Ojlekw"
      },
      "outputs": [],
      "source": [
        "import pandas as pd\n",
        "import matplotlib.pyplot as plt\n",
        "import seaborn as sns\n",
        "import numpy as np\n",
        "from sklearn.model_selection import train_test_split\n",
        "from sklearn.utils.class_weight import compute_class_weight\n",
        "from sklearn.metrics import classification_report, average_precision_score, precision_recall_curve\n",
        "from imblearn.over_sampling import SMOTE\n",
        "from imblearn.under_sampling import RandomUnderSampler\n",
        "from imblearn.pipeline import Pipeline\n",
        "\n",
        "import torch\n",
        "from pytorch_tabnet.tab_model import TabNetClassifier\n",
        "from pytorch_tabnet.metrics import Metric\n",
        "import optuna"
      ]
    },
    {
      "cell_type": "code",
      "execution_count": 3,
      "metadata": {
        "colab": {
          "base_uri": "https://localhost:8080/"
        },
        "id": "9UjnXiZNmkh0",
        "outputId": "a51d4acf-c889-4900-b543-7ad06e30531a"
      },
      "outputs": [
        {
          "output_type": "stream",
          "name": "stdout",
          "text": [
            "Mounted at /content/drive\n"
          ]
        }
      ],
      "source": [
        "from google.colab import drive, files\n",
        "drive.mount('/content/drive')"
      ]
    },
    {
      "cell_type": "markdown",
      "metadata": {
        "id": "AjpCGmW8UNA4"
      },
      "source": [
        "## **Load prepared dataset**"
      ]
    },
    {
      "cell_type": "code",
      "execution_count": 4,
      "metadata": {
        "id": "jmpj2aoVYTsr"
      },
      "outputs": [],
      "source": [
        "df = pd.read_csv('/content/drive/MyDrive/prepared_data.csv')"
      ]
    },
    {
      "cell_type": "code",
      "execution_count": 5,
      "metadata": {
        "colab": {
          "base_uri": "https://localhost:8080/",
          "height": 273
        },
        "id": "eqbJZNH6UNA4",
        "outputId": "854d6521-cbd0-4e06-ab19-15aa1fd44fb2"
      },
      "outputs": [
        {
          "output_type": "execute_result",
          "data": {
            "text/plain": [
              "     amount  Target  current_age  retirement_age  per_capita_income  \\\n",
              "0  3.312730       0           56              65           9.522886   \n",
              "1  3.297317       0           52              71          10.438196   \n",
              "2  2.413232       0           47              69          10.152494   \n",
              "3  3.159975       0           59              70           9.767439   \n",
              "4  5.602930       0           70              59          10.194776   \n",
              "\n",
              "   yearly_income  total_debt  credit_score  num_credit_cards  \\\n",
              "0      10.235019   11.592790           782                 5   \n",
              "1      11.150592   10.762022           684                 4   \n",
              "2      10.864924   11.815398           679                 1   \n",
              "3      10.479848   11.436088           720                 4   \n",
              "4      10.643113   10.299374           633                 5   \n",
              "\n",
              "   use_chip_Chip Transaction  ...  hour_Night  time_day_weekday_Afternoon  \\\n",
              "0                          0  ...           1                           0   \n",
              "1                          0  ...           1                           0   \n",
              "2                          0  ...           1                           0   \n",
              "3                          0  ...           1                           0   \n",
              "4                          0  ...           1                           0   \n",
              "\n",
              "   time_day_weekday_Evening  time_day_weekday_Morning  time_day_weekday_Night  \\\n",
              "0                         0                         0                       1   \n",
              "1                         0                         0                       1   \n",
              "2                         0                         0                       1   \n",
              "3                         0                         0                       1   \n",
              "4                         0                         0                       1   \n",
              "\n",
              "   time_day_weekend_Afternoon  time_day_weekend_Evening  \\\n",
              "0                           0                         0   \n",
              "1                           0                         0   \n",
              "2                           0                         0   \n",
              "3                           0                         0   \n",
              "4                           0                         0   \n",
              "\n",
              "   time_day_weekend_Morning  time_day_weekend_Night  suspicious_indiv_activity  \n",
              "0                         0                       0                          0  \n",
              "1                         0                       0                          0  \n",
              "2                         0                       0                          0  \n",
              "3                         0                       0                          0  \n",
              "4                         0                       0                          0  \n",
              "\n",
              "[5 rows x 49 columns]"
            ],
            "text/html": [
              "\n",
              "  <div id=\"df-e5bbf30a-96b4-427b-9198-1bc991e09a0a\" class=\"colab-df-container\">\n",
              "    <div>\n",
              "<style scoped>\n",
              "    .dataframe tbody tr th:only-of-type {\n",
              "        vertical-align: middle;\n",
              "    }\n",
              "\n",
              "    .dataframe tbody tr th {\n",
              "        vertical-align: top;\n",
              "    }\n",
              "\n",
              "    .dataframe thead th {\n",
              "        text-align: right;\n",
              "    }\n",
              "</style>\n",
              "<table border=\"1\" class=\"dataframe\">\n",
              "  <thead>\n",
              "    <tr style=\"text-align: right;\">\n",
              "      <th></th>\n",
              "      <th>amount</th>\n",
              "      <th>Target</th>\n",
              "      <th>current_age</th>\n",
              "      <th>retirement_age</th>\n",
              "      <th>per_capita_income</th>\n",
              "      <th>yearly_income</th>\n",
              "      <th>total_debt</th>\n",
              "      <th>credit_score</th>\n",
              "      <th>num_credit_cards</th>\n",
              "      <th>use_chip_Chip Transaction</th>\n",
              "      <th>...</th>\n",
              "      <th>hour_Night</th>\n",
              "      <th>time_day_weekday_Afternoon</th>\n",
              "      <th>time_day_weekday_Evening</th>\n",
              "      <th>time_day_weekday_Morning</th>\n",
              "      <th>time_day_weekday_Night</th>\n",
              "      <th>time_day_weekend_Afternoon</th>\n",
              "      <th>time_day_weekend_Evening</th>\n",
              "      <th>time_day_weekend_Morning</th>\n",
              "      <th>time_day_weekend_Night</th>\n",
              "      <th>suspicious_indiv_activity</th>\n",
              "    </tr>\n",
              "  </thead>\n",
              "  <tbody>\n",
              "    <tr>\n",
              "      <th>0</th>\n",
              "      <td>3.312730</td>\n",
              "      <td>0</td>\n",
              "      <td>56</td>\n",
              "      <td>65</td>\n",
              "      <td>9.522886</td>\n",
              "      <td>10.235019</td>\n",
              "      <td>11.592790</td>\n",
              "      <td>782</td>\n",
              "      <td>5</td>\n",
              "      <td>0</td>\n",
              "      <td>...</td>\n",
              "      <td>1</td>\n",
              "      <td>0</td>\n",
              "      <td>0</td>\n",
              "      <td>0</td>\n",
              "      <td>1</td>\n",
              "      <td>0</td>\n",
              "      <td>0</td>\n",
              "      <td>0</td>\n",
              "      <td>0</td>\n",
              "      <td>0</td>\n",
              "    </tr>\n",
              "    <tr>\n",
              "      <th>1</th>\n",
              "      <td>3.297317</td>\n",
              "      <td>0</td>\n",
              "      <td>52</td>\n",
              "      <td>71</td>\n",
              "      <td>10.438196</td>\n",
              "      <td>11.150592</td>\n",
              "      <td>10.762022</td>\n",
              "      <td>684</td>\n",
              "      <td>4</td>\n",
              "      <td>0</td>\n",
              "      <td>...</td>\n",
              "      <td>1</td>\n",
              "      <td>0</td>\n",
              "      <td>0</td>\n",
              "      <td>0</td>\n",
              "      <td>1</td>\n",
              "      <td>0</td>\n",
              "      <td>0</td>\n",
              "      <td>0</td>\n",
              "      <td>0</td>\n",
              "      <td>0</td>\n",
              "    </tr>\n",
              "    <tr>\n",
              "      <th>2</th>\n",
              "      <td>2.413232</td>\n",
              "      <td>0</td>\n",
              "      <td>47</td>\n",
              "      <td>69</td>\n",
              "      <td>10.152494</td>\n",
              "      <td>10.864924</td>\n",
              "      <td>11.815398</td>\n",
              "      <td>679</td>\n",
              "      <td>1</td>\n",
              "      <td>0</td>\n",
              "      <td>...</td>\n",
              "      <td>1</td>\n",
              "      <td>0</td>\n",
              "      <td>0</td>\n",
              "      <td>0</td>\n",
              "      <td>1</td>\n",
              "      <td>0</td>\n",
              "      <td>0</td>\n",
              "      <td>0</td>\n",
              "      <td>0</td>\n",
              "      <td>0</td>\n",
              "    </tr>\n",
              "    <tr>\n",
              "      <th>3</th>\n",
              "      <td>3.159975</td>\n",
              "      <td>0</td>\n",
              "      <td>59</td>\n",
              "      <td>70</td>\n",
              "      <td>9.767439</td>\n",
              "      <td>10.479848</td>\n",
              "      <td>11.436088</td>\n",
              "      <td>720</td>\n",
              "      <td>4</td>\n",
              "      <td>0</td>\n",
              "      <td>...</td>\n",
              "      <td>1</td>\n",
              "      <td>0</td>\n",
              "      <td>0</td>\n",
              "      <td>0</td>\n",
              "      <td>1</td>\n",
              "      <td>0</td>\n",
              "      <td>0</td>\n",
              "      <td>0</td>\n",
              "      <td>0</td>\n",
              "      <td>0</td>\n",
              "    </tr>\n",
              "    <tr>\n",
              "      <th>4</th>\n",
              "      <td>5.602930</td>\n",
              "      <td>0</td>\n",
              "      <td>70</td>\n",
              "      <td>59</td>\n",
              "      <td>10.194776</td>\n",
              "      <td>10.643113</td>\n",
              "      <td>10.299374</td>\n",
              "      <td>633</td>\n",
              "      <td>5</td>\n",
              "      <td>0</td>\n",
              "      <td>...</td>\n",
              "      <td>1</td>\n",
              "      <td>0</td>\n",
              "      <td>0</td>\n",
              "      <td>0</td>\n",
              "      <td>1</td>\n",
              "      <td>0</td>\n",
              "      <td>0</td>\n",
              "      <td>0</td>\n",
              "      <td>0</td>\n",
              "      <td>0</td>\n",
              "    </tr>\n",
              "  </tbody>\n",
              "</table>\n",
              "<p>5 rows × 49 columns</p>\n",
              "</div>\n",
              "    <div class=\"colab-df-buttons\">\n",
              "\n",
              "  <div class=\"colab-df-container\">\n",
              "    <button class=\"colab-df-convert\" onclick=\"convertToInteractive('df-e5bbf30a-96b4-427b-9198-1bc991e09a0a')\"\n",
              "            title=\"Convert this dataframe to an interactive table.\"\n",
              "            style=\"display:none;\">\n",
              "\n",
              "  <svg xmlns=\"http://www.w3.org/2000/svg\" height=\"24px\" viewBox=\"0 -960 960 960\">\n",
              "    <path d=\"M120-120v-720h720v720H120Zm60-500h600v-160H180v160Zm220 220h160v-160H400v160Zm0 220h160v-160H400v160ZM180-400h160v-160H180v160Zm440 0h160v-160H620v160ZM180-180h160v-160H180v160Zm440 0h160v-160H620v160Z\"/>\n",
              "  </svg>\n",
              "    </button>\n",
              "\n",
              "  <style>\n",
              "    .colab-df-container {\n",
              "      display:flex;\n",
              "      gap: 12px;\n",
              "    }\n",
              "\n",
              "    .colab-df-convert {\n",
              "      background-color: #E8F0FE;\n",
              "      border: none;\n",
              "      border-radius: 50%;\n",
              "      cursor: pointer;\n",
              "      display: none;\n",
              "      fill: #1967D2;\n",
              "      height: 32px;\n",
              "      padding: 0 0 0 0;\n",
              "      width: 32px;\n",
              "    }\n",
              "\n",
              "    .colab-df-convert:hover {\n",
              "      background-color: #E2EBFA;\n",
              "      box-shadow: 0px 1px 2px rgba(60, 64, 67, 0.3), 0px 1px 3px 1px rgba(60, 64, 67, 0.15);\n",
              "      fill: #174EA6;\n",
              "    }\n",
              "\n",
              "    .colab-df-buttons div {\n",
              "      margin-bottom: 4px;\n",
              "    }\n",
              "\n",
              "    [theme=dark] .colab-df-convert {\n",
              "      background-color: #3B4455;\n",
              "      fill: #D2E3FC;\n",
              "    }\n",
              "\n",
              "    [theme=dark] .colab-df-convert:hover {\n",
              "      background-color: #434B5C;\n",
              "      box-shadow: 0px 1px 3px 1px rgba(0, 0, 0, 0.15);\n",
              "      filter: drop-shadow(0px 1px 2px rgba(0, 0, 0, 0.3));\n",
              "      fill: #FFFFFF;\n",
              "    }\n",
              "  </style>\n",
              "\n",
              "    <script>\n",
              "      const buttonEl =\n",
              "        document.querySelector('#df-e5bbf30a-96b4-427b-9198-1bc991e09a0a button.colab-df-convert');\n",
              "      buttonEl.style.display =\n",
              "        google.colab.kernel.accessAllowed ? 'block' : 'none';\n",
              "\n",
              "      async function convertToInteractive(key) {\n",
              "        const element = document.querySelector('#df-e5bbf30a-96b4-427b-9198-1bc991e09a0a');\n",
              "        const dataTable =\n",
              "          await google.colab.kernel.invokeFunction('convertToInteractive',\n",
              "                                                    [key], {});\n",
              "        if (!dataTable) return;\n",
              "\n",
              "        const docLinkHtml = 'Like what you see? Visit the ' +\n",
              "          '<a target=\"_blank\" href=https://colab.research.google.com/notebooks/data_table.ipynb>data table notebook</a>'\n",
              "          + ' to learn more about interactive tables.';\n",
              "        element.innerHTML = '';\n",
              "        dataTable['output_type'] = 'display_data';\n",
              "        await google.colab.output.renderOutput(dataTable, element);\n",
              "        const docLink = document.createElement('div');\n",
              "        docLink.innerHTML = docLinkHtml;\n",
              "        element.appendChild(docLink);\n",
              "      }\n",
              "    </script>\n",
              "  </div>\n",
              "\n",
              "\n",
              "<div id=\"df-cf496360-cefc-424d-990b-bd754e7356f8\">\n",
              "  <button class=\"colab-df-quickchart\" onclick=\"quickchart('df-cf496360-cefc-424d-990b-bd754e7356f8')\"\n",
              "            title=\"Suggest charts\"\n",
              "            style=\"display:none;\">\n",
              "\n",
              "<svg xmlns=\"http://www.w3.org/2000/svg\" height=\"24px\"viewBox=\"0 0 24 24\"\n",
              "     width=\"24px\">\n",
              "    <g>\n",
              "        <path d=\"M19 3H5c-1.1 0-2 .9-2 2v14c0 1.1.9 2 2 2h14c1.1 0 2-.9 2-2V5c0-1.1-.9-2-2-2zM9 17H7v-7h2v7zm4 0h-2V7h2v10zm4 0h-2v-4h2v4z\"/>\n",
              "    </g>\n",
              "</svg>\n",
              "  </button>\n",
              "\n",
              "<style>\n",
              "  .colab-df-quickchart {\n",
              "      --bg-color: #E8F0FE;\n",
              "      --fill-color: #1967D2;\n",
              "      --hover-bg-color: #E2EBFA;\n",
              "      --hover-fill-color: #174EA6;\n",
              "      --disabled-fill-color: #AAA;\n",
              "      --disabled-bg-color: #DDD;\n",
              "  }\n",
              "\n",
              "  [theme=dark] .colab-df-quickchart {\n",
              "      --bg-color: #3B4455;\n",
              "      --fill-color: #D2E3FC;\n",
              "      --hover-bg-color: #434B5C;\n",
              "      --hover-fill-color: #FFFFFF;\n",
              "      --disabled-bg-color: #3B4455;\n",
              "      --disabled-fill-color: #666;\n",
              "  }\n",
              "\n",
              "  .colab-df-quickchart {\n",
              "    background-color: var(--bg-color);\n",
              "    border: none;\n",
              "    border-radius: 50%;\n",
              "    cursor: pointer;\n",
              "    display: none;\n",
              "    fill: var(--fill-color);\n",
              "    height: 32px;\n",
              "    padding: 0;\n",
              "    width: 32px;\n",
              "  }\n",
              "\n",
              "  .colab-df-quickchart:hover {\n",
              "    background-color: var(--hover-bg-color);\n",
              "    box-shadow: 0 1px 2px rgba(60, 64, 67, 0.3), 0 1px 3px 1px rgba(60, 64, 67, 0.15);\n",
              "    fill: var(--button-hover-fill-color);\n",
              "  }\n",
              "\n",
              "  .colab-df-quickchart-complete:disabled,\n",
              "  .colab-df-quickchart-complete:disabled:hover {\n",
              "    background-color: var(--disabled-bg-color);\n",
              "    fill: var(--disabled-fill-color);\n",
              "    box-shadow: none;\n",
              "  }\n",
              "\n",
              "  .colab-df-spinner {\n",
              "    border: 2px solid var(--fill-color);\n",
              "    border-color: transparent;\n",
              "    border-bottom-color: var(--fill-color);\n",
              "    animation:\n",
              "      spin 1s steps(1) infinite;\n",
              "  }\n",
              "\n",
              "  @keyframes spin {\n",
              "    0% {\n",
              "      border-color: transparent;\n",
              "      border-bottom-color: var(--fill-color);\n",
              "      border-left-color: var(--fill-color);\n",
              "    }\n",
              "    20% {\n",
              "      border-color: transparent;\n",
              "      border-left-color: var(--fill-color);\n",
              "      border-top-color: var(--fill-color);\n",
              "    }\n",
              "    30% {\n",
              "      border-color: transparent;\n",
              "      border-left-color: var(--fill-color);\n",
              "      border-top-color: var(--fill-color);\n",
              "      border-right-color: var(--fill-color);\n",
              "    }\n",
              "    40% {\n",
              "      border-color: transparent;\n",
              "      border-right-color: var(--fill-color);\n",
              "      border-top-color: var(--fill-color);\n",
              "    }\n",
              "    60% {\n",
              "      border-color: transparent;\n",
              "      border-right-color: var(--fill-color);\n",
              "    }\n",
              "    80% {\n",
              "      border-color: transparent;\n",
              "      border-right-color: var(--fill-color);\n",
              "      border-bottom-color: var(--fill-color);\n",
              "    }\n",
              "    90% {\n",
              "      border-color: transparent;\n",
              "      border-bottom-color: var(--fill-color);\n",
              "    }\n",
              "  }\n",
              "</style>\n",
              "\n",
              "  <script>\n",
              "    async function quickchart(key) {\n",
              "      const quickchartButtonEl =\n",
              "        document.querySelector('#' + key + ' button');\n",
              "      quickchartButtonEl.disabled = true;  // To prevent multiple clicks.\n",
              "      quickchartButtonEl.classList.add('colab-df-spinner');\n",
              "      try {\n",
              "        const charts = await google.colab.kernel.invokeFunction(\n",
              "            'suggestCharts', [key], {});\n",
              "      } catch (error) {\n",
              "        console.error('Error during call to suggestCharts:', error);\n",
              "      }\n",
              "      quickchartButtonEl.classList.remove('colab-df-spinner');\n",
              "      quickchartButtonEl.classList.add('colab-df-quickchart-complete');\n",
              "    }\n",
              "    (() => {\n",
              "      let quickchartButtonEl =\n",
              "        document.querySelector('#df-cf496360-cefc-424d-990b-bd754e7356f8 button');\n",
              "      quickchartButtonEl.style.display =\n",
              "        google.colab.kernel.accessAllowed ? 'block' : 'none';\n",
              "    })();\n",
              "  </script>\n",
              "</div>\n",
              "\n",
              "    </div>\n",
              "  </div>\n"
            ],
            "application/vnd.google.colaboratory.intrinsic+json": {
              "type": "dataframe",
              "variable_name": "df"
            }
          },
          "metadata": {},
          "execution_count": 5
        }
      ],
      "source": [
        "df.head()"
      ]
    },
    {
      "cell_type": "code",
      "execution_count": 6,
      "metadata": {
        "colab": {
          "base_uri": "https://localhost:8080/"
        },
        "id": "MZhQbA4-UNA5",
        "outputId": "3fd706a2-1e8f-4c2e-94cc-dcef47e1b4a1"
      },
      "outputs": [
        {
          "output_type": "execute_result",
          "data": {
            "text/plain": [
              "Index(['amount', 'Target', 'current_age', 'retirement_age',\n",
              "       'per_capita_income', 'yearly_income', 'total_debt', 'credit_score',\n",
              "       'num_credit_cards', 'use_chip_Chip Transaction',\n",
              "       'use_chip_Online Transaction', 'use_chip_Swipe Transaction',\n",
              "       'merchant_state_CA', 'merchant_state_FL', 'merchant_state_IL',\n",
              "       'merchant_state_MI', 'merchant_state_NC', 'merchant_state_NY',\n",
              "       'merchant_state_OH', 'merchant_state_ONLINE', 'merchant_state_Other',\n",
              "       'merchant_state_PA', 'merchant_state_TX', 'gender_female',\n",
              "       'gender_male', 'merch_risk_score', 'merch_total_txn', 'avg_txn_merch',\n",
              "       'client_fraud_rate', 'client_transaction_freq', 'time_since_last_txn',\n",
              "       'amt_income_ratio', 'debt_income_ratio', 'amt_avg_ratio',\n",
              "       'weekday_hour_category_freq', 'typicality_score', 'hour_Afternoon',\n",
              "       'hour_Evening', 'hour_Morning', 'hour_Night',\n",
              "       'time_day_weekday_Afternoon', 'time_day_weekday_Evening',\n",
              "       'time_day_weekday_Morning', 'time_day_weekday_Night',\n",
              "       'time_day_weekend_Afternoon', 'time_day_weekend_Evening',\n",
              "       'time_day_weekend_Morning', 'time_day_weekend_Night',\n",
              "       'suspicious_indiv_activity'],\n",
              "      dtype='object')"
            ]
          },
          "metadata": {},
          "execution_count": 6
        }
      ],
      "source": [
        "df.columns"
      ]
    },
    {
      "cell_type": "code",
      "execution_count": 7,
      "metadata": {
        "colab": {
          "base_uri": "https://localhost:8080/"
        },
        "id": "7nLP2oIaMZG2",
        "outputId": "37f173da-6d6d-46e7-9736-166789bd6dea"
      },
      "outputs": [
        {
          "output_type": "stream",
          "name": "stdout",
          "text": [
            "Fraud ratio in original data:  0.001\n",
            "Fraud ratio in train data:  0.001\n",
            "Fraud ratio in test data:  0.001\n"
          ]
        }
      ],
      "source": [
        "# Define independent (X) and dependent (y) variables\n",
        "X = df.drop(columns=['Target'])  # Drop the target column\n",
        "y = df['Target']  # Target variable\n",
        "\n",
        "# Stratified train test split\n",
        "X_train, X_test, y_train, y_test = train_test_split(X, y , test_size=0.2, stratify=y, shuffle=True, random_state=42)\n",
        "\n",
        "# Verify fraud ratio in original data and in train and test\n",
        "print(\"Fraud ratio in original data: \", round(df['Target'].mean(), 3))\n",
        "print(\"Fraud ratio in train data: \", round(y_train.mean(), 3))\n",
        "print(\"Fraud ratio in test data: \", round(y_test.mean(), 3))"
      ]
    },
    {
      "cell_type": "markdown",
      "metadata": {
        "id": "9e2ohFrYH8iq"
      },
      "source": [
        "## **Handle imbalance dataset**"
      ]
    },
    {
      "cell_type": "code",
      "execution_count": 8,
      "metadata": {
        "colab": {
          "base_uri": "https://localhost:8080/"
        },
        "id": "evWpdGPnywII",
        "outputId": "83823ea8-af55-4a6f-9675-5816601d6e3c"
      },
      "outputs": [
        {
          "output_type": "stream",
          "name": "stdout",
          "text": [
            "Train Set: (6171793, 48) (6171793,)\n",
            "Test Set: (1782993, 48) (1782993,)\n"
          ]
        }
      ],
      "source": [
        "# Define oversampling and undersampling\n",
        "over = SMOTE(sampling_strategy=0.2, random_state=42)  # Oversample fraud to 20%\n",
        "under = RandomUnderSampler(sampling_strategy=0.3, random_state=42)  # Balance to 1:3 ratio\n",
        "\n",
        "# Create pipeline\n",
        "imbalance_pipeline = Pipeline(steps=[(\"over\", over), (\"under\", under)])\n",
        "\n",
        "# Apply resampling\n",
        "X_resampled, y_resampled = imbalance_pipeline.fit_resample(X_train, y_train)\n",
        "\n",
        "# Check the shape of the split\n",
        "print(\"Train Set:\", X_resampled.shape, y_resampled.shape)\n",
        "print(\"Test Set:\", X_test.shape, y_test.shape)"
      ]
    },
    {
      "cell_type": "code",
      "execution_count": 9,
      "metadata": {
        "colab": {
          "base_uri": "https://localhost:8080/"
        },
        "id": "TnyP9cflU51s",
        "outputId": "42ea5893-7237-41cd-9490-e55e7de45137"
      },
      "outputs": [
        {
          "output_type": "stream",
          "name": "stdout",
          "text": [
            "Class weights:  {0: 0.6500000105317857, 1: 2.166666549646834}\n"
          ]
        }
      ],
      "source": [
        "# Compute balanced class weights\n",
        "class_weights = compute_class_weight(\n",
        "    class_weight='balanced',\n",
        "    classes=np.unique(y_resampled),\n",
        "    y=y_resampled\n",
        ")\n",
        "class_weight_dict = dict(zip(np.unique(y_resampled), class_weights))\n",
        "\n",
        "print(\"Class weights: \", class_weight_dict)"
      ]
    },
    {
      "cell_type": "markdown",
      "metadata": {
        "id": "luv2Uht28Oc_"
      },
      "source": [
        "## **Modeling**"
      ]
    },
    {
      "cell_type": "code",
      "execution_count": 13,
      "metadata": {
        "colab": {
          "base_uri": "https://localhost:8080/",
          "height": 468
        },
        "id": "VZtgA7aAU8Ry",
        "outputId": "49c41d77-c544-4281-c587-148acd1cfdeb"
      },
      "outputs": [
        {
          "output_type": "stream",
          "name": "stderr",
          "text": [
            "/usr/local/lib/python3.11/dist-packages/pytorch_tabnet/abstract_model.py:82: UserWarning: Device used : cuda\n",
            "  warnings.warn(f\"Device used : {self.device}\")\n"
          ]
        },
        {
          "output_type": "stream",
          "name": "stdout",
          "text": [
            "epoch 0  | loss: 0.14452 | val_0_pr_auc: 0.08002 |  0:07:40s\n",
            "epoch 1  | loss: 0.06201 | val_0_pr_auc: 0.17943 |  0:15:18s\n",
            "epoch 2  | loss: 0.04886 | val_0_pr_auc: 0.27828 |  0:22:51s\n",
            "epoch 3  | loss: 0.04204 | val_0_pr_auc: 0.37078 |  0:30:25s\n",
            "epoch 4  | loss: 0.03677 | val_0_pr_auc: 0.37429 |  0:37:58s\n",
            "epoch 5  | loss: 0.03382 | val_0_pr_auc: 0.3885  |  0:45:30s\n",
            "epoch 6  | loss: 0.03169 | val_0_pr_auc: 0.39113 |  0:53:01s\n",
            "epoch 7  | loss: 0.02996 | val_0_pr_auc: 0.42381 |  1:00:32s\n",
            "epoch 8  | loss: 0.02787 | val_0_pr_auc: 0.37931 |  1:08:04s\n",
            "epoch 9  | loss: 0.02683 | val_0_pr_auc: 0.44188 |  1:15:36s\n",
            "epoch 10 | loss: 0.02524 | val_0_pr_auc: 0.42087 |  1:23:08s\n",
            "epoch 11 | loss: 0.02412 | val_0_pr_auc: 0.43505 |  1:30:41s\n",
            "epoch 12 | loss: 0.02339 | val_0_pr_auc: 0.44851 |  1:38:23s\n",
            "epoch 13 | loss: 0.02207 | val_0_pr_auc: 0.4511  |  1:46:05s\n",
            "epoch 14 | loss: 0.02124 | val_0_pr_auc: 0.44712 |  1:53:53s\n",
            "epoch 15 | loss: 0.02045 | val_0_pr_auc: 0.45902 |  2:01:38s\n",
            "epoch 16 | loss: 0.02005 | val_0_pr_auc: 0.451   |  2:09:34s\n",
            "epoch 17 | loss: 0.01923 | val_0_pr_auc: 0.45161 |  2:17:38s\n",
            "epoch 18 | loss: 0.01894 | val_0_pr_auc: 0.43568 |  2:25:42s\n",
            "epoch 19 | loss: 0.01884 | val_0_pr_auc: 0.45753 |  2:33:34s\n",
            "Stop training because you reached max_epochs = 20 with best_epoch = 15 and best_val_0_pr_auc = 0.45902\n",
            "Successfully saved model at tabnet_model.zip\n"
          ]
        },
        {
          "output_type": "stream",
          "name": "stderr",
          "text": [
            "/usr/local/lib/python3.11/dist-packages/pytorch_tabnet/callbacks.py:172: UserWarning: Best weights from best epoch are automatically used!\n",
            "  warnings.warn(wrn_msg)\n"
          ]
        },
        {
          "output_type": "display_data",
          "data": {
            "text/plain": [
              "<IPython.core.display.Javascript object>"
            ],
            "application/javascript": [
              "\n",
              "    async function download(id, filename, size) {\n",
              "      if (!google.colab.kernel.accessAllowed) {\n",
              "        return;\n",
              "      }\n",
              "      const div = document.createElement('div');\n",
              "      const label = document.createElement('label');\n",
              "      label.textContent = `Downloading \"${filename}\": `;\n",
              "      div.appendChild(label);\n",
              "      const progress = document.createElement('progress');\n",
              "      progress.max = size;\n",
              "      div.appendChild(progress);\n",
              "      document.body.appendChild(div);\n",
              "\n",
              "      const buffers = [];\n",
              "      let downloaded = 0;\n",
              "\n",
              "      const channel = await google.colab.kernel.comms.open(id);\n",
              "      // Send a message to notify the kernel that we're ready.\n",
              "      channel.send({})\n",
              "\n",
              "      for await (const message of channel.messages) {\n",
              "        // Send a message to notify the kernel that we're ready.\n",
              "        channel.send({})\n",
              "        if (message.buffers) {\n",
              "          for (const buffer of message.buffers) {\n",
              "            buffers.push(buffer);\n",
              "            downloaded += buffer.byteLength;\n",
              "            progress.value = downloaded;\n",
              "          }\n",
              "        }\n",
              "      }\n",
              "      const blob = new Blob(buffers, {type: 'application/binary'});\n",
              "      const a = document.createElement('a');\n",
              "      a.href = window.URL.createObjectURL(blob);\n",
              "      a.download = filename;\n",
              "      div.appendChild(a);\n",
              "      a.click();\n",
              "      div.remove();\n",
              "    }\n",
              "  "
            ]
          },
          "metadata": {}
        },
        {
          "output_type": "display_data",
          "data": {
            "text/plain": [
              "<IPython.core.display.Javascript object>"
            ],
            "application/javascript": [
              "download(\"download_0024b633-4cf4-428c-837c-3da328310f3e\", \"tabnet_model.zip\", 353404)"
            ]
          },
          "metadata": {}
        }
      ],
      "source": [
        "# Define custom PR-AUC metric as a class\n",
        "class PRAUCMetric(Metric):\n",
        "    def __init__(self):\n",
        "        self._name = \"pr_auc\"\n",
        "        self._maximize = True  # Higher is better\n",
        "\n",
        "    def __call__(self, y_true, y_pred):\n",
        "        # Ensure y_pred is probability of class 1\n",
        "        y_pred_proba = y_pred[:, 1] if y_pred.ndim > 1 else y_pred\n",
        "        return average_precision_score(y_true, y_pred_proba)\n",
        "\n",
        "# Initialize and train TabNet model with class weights\n",
        "tabnet_model = TabNetClassifier(\n",
        "    n_d=32,\n",
        "    n_a=16,\n",
        "    n_steps=6,\n",
        "    gamma=1.0962249280245437,\n",
        "    lambda_sparse=0.00016773466627626935,\n",
        "    optimizer_fn=torch.optim.Adam,\n",
        "    optimizer_params=dict(lr=0.001254008268991274),\n",
        "    mask_type='sparsemax',\n",
        "    verbose=1\n",
        ")\n",
        "\n",
        "try:\n",
        "    tabnet_model.load_model('tabnet_model.zip')\n",
        "except:\n",
        "    tabnet_model.fit(\n",
        "        X_resampled.values, y_resampled.values,\n",
        "        eval_set=[(X_test.values, y_test.values)],\n",
        "        eval_metric=[PRAUCMetric],\n",
        "        max_epochs=20,\n",
        "        patience=5,\n",
        "        batch_size=1024,\n",
        "        virtual_batch_size=128,\n",
        "        weights=class_weight_dict,\n",
        "        compute_importance=False\n",
        "    )\n",
        "\n",
        "    tabnet_model.save_model('tabnet_model')\n",
        "    files.download(\"tabnet_model.zip\")"
      ]
    },
    {
      "cell_type": "code",
      "execution_count": 14,
      "metadata": {
        "colab": {
          "base_uri": "https://localhost:8080/",
          "height": 720
        },
        "id": "EtSJ8FMbepCz",
        "outputId": "b0263993-147f-486b-ed15-36d21a7c2428"
      },
      "outputs": [
        {
          "output_type": "stream",
          "name": "stdout",
          "text": [
            "              precision    recall  f1-score   support\n",
            "\n",
            "           0       1.00      0.99      1.00   1780327\n",
            "           1       0.13      0.61      0.22      2666\n",
            "\n",
            "    accuracy                           0.99   1782993\n",
            "   macro avg       0.57      0.80      0.61   1782993\n",
            "weighted avg       1.00      0.99      1.00   1782993\n",
            "\n"
          ]
        },
        {
          "output_type": "display_data",
          "data": {
            "text/plain": [
              "<Figure size 800x600 with 1 Axes>"
            ],
            "image/png": "[encoded data removed]"
          },
          "metadata": {}
        }
      ],
      "source": [
        "threshold = 0.5\n",
        "y_pred_proba = tabnet_model.predict_proba(X_test.values)[:, 1]\n",
        "y_pred_tabnet = (y_pred_proba > threshold).astype(int)\n",
        "\n",
        "# Generate the classification report\n",
        "print(classification_report(y_test.values, y_pred_tabnet))\n",
        "\n",
        "# Compute precision-recall curve\n",
        "precision, recall, thresholds = precision_recall_curve(y_test, y_pred_proba)\n",
        "# Plot precision-recall curve\n",
        "plt.figure(figsize=(8, 6))\n",
        "plt.plot(recall, precision, color='blue', lw=2)\n",
        "plt.xlabel('Recall')\n",
        "plt.ylabel('Precision')\n",
        "plt.title('Precision-Recall Curve')\n",
        "plt.show()"
      ]
    },
    {
      "cell_type": "markdown",
      "source": [
        "## **Tuning**"
      ],
      "metadata": {
        "id": "DqIeSfec2vWo"
      }
    },
    {
      "cell_type": "code",
      "source": [
        "def objective(trial):\n",
        "    # Suggest hyperparameters\n",
        "    n_d = trial.suggest_int(\"n_d\", 8, 32, step=8)\n",
        "    n_a = trial.suggest_int(\"n_a\", 8, 32, step=8)\n",
        "    n_steps = trial.suggest_int(\"n_steps\", 3, 7)\n",
        "    gamma = trial.suggest_float(\"gamma\", 1.0, 2.0)\n",
        "    lambda_sparse = trial.suggest_float(\"lambda_sparse\", 1e-5, 1e-3, log=True)\n",
        "    lr = trial.suggest_float(\"lr\", 1e-3, 2e-2, log=True)\n",
        "    batch_size = trial.suggest_categorical(\"batch_size\", [512, 1024, 2048])\n",
        "\n",
        "    tabnet_model = TabNetClassifier(\n",
        "        n_d=n_d,\n",
        "        n_a=n_a,\n",
        "        n_steps=n_steps,\n",
        "        gamma=gamma,\n",
        "        lambda_sparse=lambda_sparse,\n",
        "        optimizer_fn=torch.optim.Adam,\n",
        "        optimizer_params=dict(lr=lr),\n",
        "        mask_type=\"sparsemax\",\n",
        "        verbose=1\n",
        "    )\n",
        "\n",
        "    tabnet_model.fit(\n",
        "        X_resampled.values, y_resampled.values,\n",
        "        eval_set=[(X_test.values, y_test.values)],\n",
        "        eval_metric=[PRAUCMetric],\n",
        "        max_epochs=10,\n",
        "        patience=3,\n",
        "        batch_size=batch_size,\n",
        "        virtual_batch_size=128,\n",
        "        weights=class_weight_dict,\n",
        "        compute_importance=False\n",
        "    )\n",
        "\n",
        "    # Evaluate PR-AUC\n",
        "    y_pred_proba = tabnet_model.predict_proba(X_test.values)[:, 1]\n",
        "    pr_auc = average_precision_score(y_test, y_pred_proba)\n",
        "\n",
        "    return pr_auc\n",
        "\n",
        "study = optuna.create_study(direction=\"maximize\")  # Maximize PR-AUC\n",
        "study.optimize(objective, n_trials=10)\n",
        "\n",
        "# Best hyperparameters\n",
        "print(\"Best hyperparameters:\", study.best_params)\n"
      ],
      "metadata": {
        "colab": {
          "base_uri": "https://localhost:8080/"
        },
        "id": "K9aQgKYoqVnY",
        "outputId": "37952bc4-8c66-4688-e820-3610a8fb85bf"
      },
      "execution_count": 12,
      "outputs": [
        {
          "output_type": "stream",
          "name": "stderr",
          "text": [
            "[I 2025-02-26 14:34:18,533] A new study created in memory with name: no-name-6b0e4bc4-e443-4160-b375-9bc9af728a83\n",
            "/usr/local/lib/python3.11/dist-packages/pytorch_tabnet/abstract_model.py:82: UserWarning: Device used : cuda\n",
            "  warnings.warn(f\"Device used : {self.device}\")\n"
          ]
        },
        {
          "output_type": "stream",
          "name": "stdout",
          "text": [
            "epoch 0  | loss: 0.07287 | val_0_pr_auc: 0.35185 |  0:04:30s\n",
            "epoch 1  | loss: 0.04403 | val_0_pr_auc: 0.29063 |  0:09:04s\n",
            "epoch 2  | loss: 0.03833 | val_0_pr_auc: 0.29907 |  0:13:36s\n",
            "epoch 3  | loss: 0.0293  | val_0_pr_auc: 0.33769 |  0:18:06s\n",
            "\n",
            "Early stopping occurred at epoch 3 with best_epoch = 0 and best_val_0_pr_auc = 0.35185\n"
          ]
        },
        {
          "output_type": "stream",
          "name": "stderr",
          "text": [
            "/usr/local/lib/python3.11/dist-packages/pytorch_tabnet/callbacks.py:172: UserWarning: Best weights from best epoch are automatically used!\n",
            "  warnings.warn(wrn_msg)\n",
            "[I 2025-02-26 14:53:06,802] Trial 0 finished with value: 0.3518494038677043 and parameters: {'n_d': 24, 'n_a': 32, 'n_steps': 4, 'gamma': 1.2647628681441918, 'lambda_sparse': 0.0007815524153941117, 'lr': 0.015938574462263207, 'batch_size': 2048}. Best is trial 0 with value: 0.3518494038677043.\n",
            "/usr/local/lib/python3.11/dist-packages/pytorch_tabnet/abstract_model.py:82: UserWarning: Device used : cuda\n",
            "  warnings.warn(f\"Device used : {self.device}\")\n"
          ]
        },
        {
          "output_type": "stream",
          "name": "stdout",
          "text": [
            "epoch 0  | loss: 0.0723  | val_0_pr_auc: 0.22096 |  0:04:26s\n",
            "epoch 1  | loss: 0.04516 | val_0_pr_auc: 0.29884 |  0:08:50s\n",
            "epoch 2  | loss: 0.03151 | val_0_pr_auc: 0.35357 |  0:13:10s\n",
            "epoch 3  | loss: 0.02416 | val_0_pr_auc: 0.33321 |  0:17:29s\n",
            "epoch 4  | loss: 0.0207  | val_0_pr_auc: 0.39406 |  0:21:47s\n",
            "epoch 5  | loss: 0.01926 | val_0_pr_auc: 0.40439 |  0:26:04s\n",
            "epoch 6  | loss: 0.01748 | val_0_pr_auc: 0.3778  |  0:30:22s\n",
            "epoch 7  | loss: 0.01687 | val_0_pr_auc: 0.41922 |  0:34:39s\n",
            "epoch 8  | loss: 0.01564 | val_0_pr_auc: 0.42032 |  0:38:55s\n",
            "epoch 9  | loss: 0.01461 | val_0_pr_auc: 0.40228 |  0:43:12s\n",
            "Stop training because you reached max_epochs = 10 with best_epoch = 8 and best_val_0_pr_auc = 0.42032\n"
          ]
        },
        {
          "output_type": "stream",
          "name": "stderr",
          "text": [
            "/usr/local/lib/python3.11/dist-packages/pytorch_tabnet/callbacks.py:172: UserWarning: Best weights from best epoch are automatically used!\n",
            "  warnings.warn(wrn_msg)\n",
            "[I 2025-02-26 15:36:56,406] Trial 1 finished with value: 0.42032278794439976 and parameters: {'n_d': 32, 'n_a': 32, 'n_steps': 4, 'gamma': 1.505765849322037, 'lambda_sparse': 0.0008735017455803443, 'lr': 0.018643868739369636, 'batch_size': 2048}. Best is trial 1 with value: 0.42032278794439976.\n",
            "/usr/local/lib/python3.11/dist-packages/pytorch_tabnet/abstract_model.py:82: UserWarning: Device used : cuda\n",
            "  warnings.warn(f\"Device used : {self.device}\")\n"
          ]
        },
        {
          "output_type": "stream",
          "name": "stdout",
          "text": [
            "epoch 0  | loss: 0.07715 | val_0_pr_auc: 0.35977 |  0:05:30s\n",
            "epoch 1  | loss: 0.03912 | val_0_pr_auc: 0.3593  |  0:11:06s\n",
            "epoch 2  | loss: 0.02978 | val_0_pr_auc: 0.36697 |  0:16:38s\n",
            "epoch 3  | loss: 0.02506 | val_0_pr_auc: 0.37236 |  0:22:10s\n",
            "epoch 4  | loss: 0.02257 | val_0_pr_auc: 0.38754 |  0:27:45s\n",
            "epoch 5  | loss: 0.02092 | val_0_pr_auc: 0.38892 |  0:33:20s\n",
            "epoch 6  | loss: 0.01969 | val_0_pr_auc: 0.37143 |  0:38:56s\n",
            "epoch 7  | loss: 0.01873 | val_0_pr_auc: 0.34398 |  0:44:31s\n",
            "epoch 8  | loss: 0.01819 | val_0_pr_auc: 0.39176 |  0:50:03s\n",
            "epoch 9  | loss: 0.01746 | val_0_pr_auc: 0.35947 |  0:55:38s\n",
            "Stop training because you reached max_epochs = 10 with best_epoch = 8 and best_val_0_pr_auc = 0.39176\n"
          ]
        },
        {
          "output_type": "stream",
          "name": "stderr",
          "text": [
            "/usr/local/lib/python3.11/dist-packages/pytorch_tabnet/callbacks.py:172: UserWarning: Best weights from best epoch are automatically used!\n",
            "  warnings.warn(wrn_msg)\n",
            "[I 2025-02-26 16:33:21,722] Trial 2 finished with value: 0.3917609890429284 and parameters: {'n_d': 16, 'n_a': 24, 'n_steps': 4, 'gamma': 1.0664089774588694, 'lambda_sparse': 0.00040690532211853627, 'lr': 0.006888253450527749, 'batch_size': 1024}. Best is trial 1 with value: 0.42032278794439976.\n",
            "/usr/local/lib/python3.11/dist-packages/pytorch_tabnet/abstract_model.py:82: UserWarning: Device used : cuda\n",
            "  warnings.warn(f\"Device used : {self.device}\")\n"
          ]
        },
        {
          "output_type": "stream",
          "name": "stdout",
          "text": [
            "epoch 0  | loss: 0.10044 | val_0_pr_auc: 0.1142  |  0:05:49s\n",
            "epoch 1  | loss: 0.05465 | val_0_pr_auc: 0.17202 |  0:11:36s\n",
            "epoch 2  | loss: 0.04573 | val_0_pr_auc: 0.27515 |  0:17:23s\n",
            "epoch 3  | loss: 0.03629 | val_0_pr_auc: 0.34682 |  0:23:09s\n",
            "epoch 4  | loss: 0.02999 | val_0_pr_auc: 0.33808 |  0:28:58s\n",
            "epoch 5  | loss: 0.02617 | val_0_pr_auc: 0.3422  |  0:34:48s\n",
            "epoch 6  | loss: 0.02464 | val_0_pr_auc: 0.35763 |  0:40:36s\n",
            "epoch 7  | loss: 0.02458 | val_0_pr_auc: 0.29506 |  0:46:26s\n",
            "epoch 8  | loss: 0.02674 | val_0_pr_auc: 0.34168 |  0:52:16s\n",
            "epoch 9  | loss: 0.02298 | val_0_pr_auc: 0.33168 |  0:58:04s\n",
            "\n",
            "Early stopping occurred at epoch 9 with best_epoch = 6 and best_val_0_pr_auc = 0.35763\n"
          ]
        },
        {
          "output_type": "stream",
          "name": "stderr",
          "text": [
            "/usr/local/lib/python3.11/dist-packages/pytorch_tabnet/callbacks.py:172: UserWarning: Best weights from best epoch are automatically used!\n",
            "  warnings.warn(wrn_msg)\n",
            "[I 2025-02-26 17:32:13,924] Trial 3 finished with value: 0.3576332060341773 and parameters: {'n_d': 16, 'n_a': 24, 'n_steps': 6, 'gamma': 1.7650308735832527, 'lambda_sparse': 0.0009097512615886741, 'lr': 0.014858558658573464, 'batch_size': 2048}. Best is trial 1 with value: 0.42032278794439976.\n",
            "/usr/local/lib/python3.11/dist-packages/pytorch_tabnet/abstract_model.py:82: UserWarning: Device used : cuda\n",
            "  warnings.warn(f\"Device used : {self.device}\")\n"
          ]
        },
        {
          "output_type": "stream",
          "name": "stdout",
          "text": [
            "epoch 0  | loss: 0.15825 | val_0_pr_auc: 0.11844 |  0:11:10s\n",
            "epoch 1  | loss: 0.05737 | val_0_pr_auc: 0.23568 |  0:22:40s\n",
            "epoch 2  | loss: 0.04673 | val_0_pr_auc: 0.31035 |  0:33:32s\n",
            "epoch 3  | loss: 0.04113 | val_0_pr_auc: 0.30768 |  0:44:24s\n",
            "epoch 4  | loss: 0.03882 | val_0_pr_auc: 0.35018 |  0:55:24s\n",
            "epoch 5  | loss: 0.03606 | val_0_pr_auc: 0.39013 |  1:06:18s\n",
            "epoch 6  | loss: 0.03481 | val_0_pr_auc: 0.40969 |  1:17:12s\n",
            "epoch 7  | loss: 0.03206 | val_0_pr_auc: 0.39473 |  1:28:07s\n",
            "epoch 8  | loss: 0.02989 | val_0_pr_auc: 0.40988 |  1:38:57s\n",
            "epoch 9  | loss: 0.02951 | val_0_pr_auc: 0.27109 |  1:50:35s\n",
            "Stop training because you reached max_epochs = 10 with best_epoch = 8 and best_val_0_pr_auc = 0.40988\n"
          ]
        },
        {
          "output_type": "stream",
          "name": "stderr",
          "text": [
            "/usr/local/lib/python3.11/dist-packages/pytorch_tabnet/callbacks.py:172: UserWarning: Best weights from best epoch are automatically used!\n",
            "  warnings.warn(wrn_msg)\n",
            "[I 2025-02-26 19:24:14,808] Trial 4 finished with value: 0.4098751357824246 and parameters: {'n_d': 16, 'n_a': 16, 'n_steps': 6, 'gamma': 1.314402160359712, 'lambda_sparse': 0.0009323422634726035, 'lr': 0.0013774950213434286, 'batch_size': 512}. Best is trial 1 with value: 0.42032278794439976.\n",
            "/usr/local/lib/python3.11/dist-packages/pytorch_tabnet/abstract_model.py:82: UserWarning: Device used : cuda\n",
            "  warnings.warn(f\"Device used : {self.device}\")\n"
          ]
        },
        {
          "output_type": "stream",
          "name": "stdout",
          "text": [
            "epoch 0  | loss: 0.28598 | val_0_pr_auc: 0.04875 |  0:05:59s\n",
            "epoch 1  | loss: 0.09287 | val_0_pr_auc: 0.15422 |  0:11:52s\n",
            "epoch 2  | loss: 0.07436 | val_0_pr_auc: 0.16424 |  0:17:50s\n",
            "epoch 3  | loss: 0.06353 | val_0_pr_auc: 0.23639 |  0:23:44s\n",
            "epoch 4  | loss: 0.05684 | val_0_pr_auc: 0.28678 |  0:29:36s\n",
            "epoch 5  | loss: 0.05347 | val_0_pr_auc: 0.30627 |  0:35:30s\n",
            "epoch 6  | loss: 0.05155 | val_0_pr_auc: 0.3119  |  0:41:26s\n",
            "epoch 7  | loss: 0.04799 | val_0_pr_auc: 0.31941 |  0:47:21s\n",
            "epoch 8  | loss: 0.04504 | val_0_pr_auc: 0.33539 |  0:53:16s\n",
            "epoch 9  | loss: 0.04563 | val_0_pr_auc: 0.323   |  0:59:10s\n",
            "Stop training because you reached max_epochs = 10 with best_epoch = 8 and best_val_0_pr_auc = 0.33539\n"
          ]
        },
        {
          "output_type": "stream",
          "name": "stderr",
          "text": [
            "/usr/local/lib/python3.11/dist-packages/pytorch_tabnet/callbacks.py:172: UserWarning: Best weights from best epoch are automatically used!\n",
            "  warnings.warn(wrn_msg)\n",
            "[I 2025-02-26 20:24:13,898] Trial 5 finished with value: 0.33538828665802156 and parameters: {'n_d': 32, 'n_a': 16, 'n_steps': 6, 'gamma': 1.7667390904367108, 'lambda_sparse': 0.0002396161419137252, 'lr': 0.00158763699227176, 'batch_size': 2048}. Best is trial 1 with value: 0.42032278794439976.\n",
            "/usr/local/lib/python3.11/dist-packages/pytorch_tabnet/abstract_model.py:82: UserWarning: Device used : cuda\n",
            "  warnings.warn(f\"Device used : {self.device}\")\n"
          ]
        },
        {
          "output_type": "stream",
          "name": "stdout",
          "text": [
            "epoch 0  | loss: 0.10509 | val_0_pr_auc: 0.11183 |  0:04:38s\n",
            "epoch 1  | loss: 0.05228 | val_0_pr_auc: 0.21923 |  0:09:21s\n",
            "epoch 2  | loss: 0.04339 | val_0_pr_auc: 0.26279 |  0:14:04s\n",
            "epoch 3  | loss: 0.03815 | val_0_pr_auc: 0.30158 |  0:18:42s\n",
            "epoch 4  | loss: 0.03507 | val_0_pr_auc: 0.30702 |  0:23:18s\n",
            "epoch 5  | loss: 0.03234 | val_0_pr_auc: 0.31139 |  0:27:54s\n",
            "epoch 6  | loss: 0.03022 | val_0_pr_auc: 0.32071 |  0:32:29s\n",
            "epoch 7  | loss: 0.02823 | val_0_pr_auc: 0.27315 |  0:37:05s\n",
            "epoch 8  | loss: 0.02671 | val_0_pr_auc: 0.32771 |  0:41:40s\n",
            "epoch 9  | loss: 0.02566 | val_0_pr_auc: 0.32128 |  0:46:16s\n",
            "Stop training because you reached max_epochs = 10 with best_epoch = 8 and best_val_0_pr_auc = 0.32771\n"
          ]
        },
        {
          "output_type": "stream",
          "name": "stderr",
          "text": [
            "/usr/local/lib/python3.11/dist-packages/pytorch_tabnet/callbacks.py:172: UserWarning: Best weights from best epoch are automatically used!\n",
            "  warnings.warn(wrn_msg)\n",
            "[I 2025-02-26 21:11:09,353] Trial 6 finished with value: 0.3277086609925617 and parameters: {'n_d': 16, 'n_a': 24, 'n_steps': 3, 'gamma': 1.1860256494553407, 'lambda_sparse': 0.00022985764014461928, 'lr': 0.0011253362442059207, 'batch_size': 1024}. Best is trial 1 with value: 0.42032278794439976.\n",
            "/usr/local/lib/python3.11/dist-packages/pytorch_tabnet/abstract_model.py:82: UserWarning: Device used : cuda\n",
            "  warnings.warn(f\"Device used : {self.device}\")\n"
          ]
        },
        {
          "output_type": "stream",
          "name": "stdout",
          "text": [
            "epoch 0  | loss: 0.08148 | val_0_pr_auc: 0.23117 |  0:12:17s\n",
            "epoch 1  | loss: 0.04086 | val_0_pr_auc: 0.32371 |  0:24:31s\n",
            "epoch 2  | loss: 0.03803 | val_0_pr_auc: 0.15758 |  0:36:50s\n",
            "epoch 3  | loss: 0.03438 | val_0_pr_auc: 0.30061 |  0:49:10s\n",
            "epoch 4  | loss: 0.03217 | val_0_pr_auc: 0.29229 |  1:01:23s\n",
            "\n",
            "Early stopping occurred at epoch 4 with best_epoch = 1 and best_val_0_pr_auc = 0.32371\n"
          ]
        },
        {
          "output_type": "stream",
          "name": "stderr",
          "text": [
            "/usr/local/lib/python3.11/dist-packages/pytorch_tabnet/callbacks.py:172: UserWarning: Best weights from best epoch are automatically used!\n",
            "  warnings.warn(wrn_msg)\n",
            "[I 2025-02-26 22:14:04,776] Trial 7 finished with value: 0.3237105994913646 and parameters: {'n_d': 16, 'n_a': 8, 'n_steps': 7, 'gamma': 1.3310152064212584, 'lambda_sparse': 0.00011586002560399254, 'lr': 0.009148540446471433, 'batch_size': 512}. Best is trial 1 with value: 0.42032278794439976.\n",
            "/usr/local/lib/python3.11/dist-packages/pytorch_tabnet/abstract_model.py:82: UserWarning: Device used : cuda\n",
            "  warnings.warn(f\"Device used : {self.device}\")\n"
          ]
        },
        {
          "output_type": "stream",
          "name": "stdout",
          "text": [
            "epoch 0  | loss: 0.14446 | val_0_pr_auc: 0.05244 |  0:05:07s\n",
            "epoch 1  | loss: 0.06425 | val_0_pr_auc: 0.16725 |  0:10:20s\n",
            "epoch 2  | loss: 0.05203 | val_0_pr_auc: 0.23858 |  0:15:28s\n",
            "epoch 3  | loss: 0.04958 | val_0_pr_auc: 0.26552 |  0:20:33s\n",
            "epoch 4  | loss: 0.04352 | val_0_pr_auc: 0.26334 |  0:25:39s\n",
            "epoch 5  | loss: 0.04294 | val_0_pr_auc: 0.25593 |  0:30:45s\n",
            "epoch 6  | loss: 0.03837 | val_0_pr_auc: 0.20086 |  0:35:50s\n",
            "\n",
            "Early stopping occurred at epoch 6 with best_epoch = 3 and best_val_0_pr_auc = 0.26552\n"
          ]
        },
        {
          "output_type": "stream",
          "name": "stderr",
          "text": [
            "/usr/local/lib/python3.11/dist-packages/pytorch_tabnet/callbacks.py:172: UserWarning: Best weights from best epoch are automatically used!\n",
            "  warnings.warn(wrn_msg)\n",
            "[I 2025-02-26 22:50:38,925] Trial 8 finished with value: 0.26552178635492946 and parameters: {'n_d': 16, 'n_a': 32, 'n_steps': 5, 'gamma': 1.8709741005215503, 'lambda_sparse': 1.4379368618518392e-05, 'lr': 0.0032799988453244854, 'batch_size': 2048}. Best is trial 1 with value: 0.42032278794439976.\n",
            "/usr/local/lib/python3.11/dist-packages/pytorch_tabnet/abstract_model.py:82: UserWarning: Device used : cuda\n",
            "  warnings.warn(f\"Device used : {self.device}\")\n"
          ]
        },
        {
          "output_type": "stream",
          "name": "stdout",
          "text": [
            "epoch 0  | loss: 0.07136 | val_0_pr_auc: 0.29901 |  0:05:33s\n",
            "epoch 1  | loss: 0.04045 | val_0_pr_auc: 0.39659 |  0:11:05s\n",
            "epoch 2  | loss: 0.03513 | val_0_pr_auc: 0.23849 |  0:16:38s\n",
            "epoch 3  | loss: 0.03041 | val_0_pr_auc: 0.29484 |  0:22:11s\n",
            "epoch 4  | loss: 0.02665 | val_0_pr_auc: 0.27413 |  0:27:48s\n",
            "\n",
            "Early stopping occurred at epoch 4 with best_epoch = 1 and best_val_0_pr_auc = 0.39659\n"
          ]
        },
        {
          "output_type": "stream",
          "name": "stderr",
          "text": [
            "/usr/local/lib/python3.11/dist-packages/pytorch_tabnet/callbacks.py:172: UserWarning: Best weights from best epoch are automatically used!\n",
            "  warnings.warn(wrn_msg)\n",
            "[I 2025-02-26 23:19:14,580] Trial 9 finished with value: 0.396589683775772 and parameters: {'n_d': 16, 'n_a': 16, 'n_steps': 4, 'gamma': 1.6671737646576505, 'lambda_sparse': 0.0006299817443878067, 'lr': 0.011702240168522523, 'batch_size': 1024}. Best is trial 1 with value: 0.42032278794439976.\n"
          ]
        },
        {
          "output_type": "stream",
          "name": "stdout",
          "text": [
            "Best hyperparameters: {'n_d': 32, 'n_a': 32, 'n_steps': 4, 'gamma': 1.505765849322037, 'lambda_sparse': 0.0008735017455803443, 'lr': 0.018643868739369636, 'batch_size': 2048}\n"
          ]
        }
      ]
    },
    {
      "cell_type": "code",
      "execution_count": 15,
      "metadata": {
        "id": "WoQSEq5QYDx2",
        "colab": {
          "base_uri": "https://localhost:8080/",
          "height": 433
        },
        "outputId": "4e4b8584-cc6c-4d02-b226-0491a95ad58e"
      },
      "outputs": [
        {
          "output_type": "stream",
          "name": "stderr",
          "text": [
            "/usr/local/lib/python3.11/dist-packages/pytorch_tabnet/abstract_model.py:82: UserWarning: Device used : cuda\n",
            "  warnings.warn(f\"Device used : {self.device}\")\n"
          ]
        },
        {
          "output_type": "stream",
          "name": "stdout",
          "text": [
            "epoch 0  | loss: 0.0723  | val_0_pr_auc: 0.22096 |  0:04:31s\n",
            "epoch 1  | loss: 0.04516 | val_0_pr_auc: 0.29884 |  0:09:02s\n",
            "epoch 2  | loss: 0.03151 | val_0_pr_auc: 0.35357 |  0:13:33s\n",
            "epoch 3  | loss: 0.02416 | val_0_pr_auc: 0.33321 |  0:18:05s\n",
            "epoch 4  | loss: 0.0207  | val_0_pr_auc: 0.39406 |  0:22:55s\n",
            "epoch 5  | loss: 0.01926 | val_0_pr_auc: 0.40439 |  0:27:45s\n",
            "epoch 6  | loss: 0.01748 | val_0_pr_auc: 0.3778  |  0:32:35s\n",
            "epoch 7  | loss: 0.01687 | val_0_pr_auc: 0.41922 |  0:37:26s\n",
            "epoch 8  | loss: 0.01564 | val_0_pr_auc: 0.42032 |  0:42:17s\n",
            "epoch 9  | loss: 0.01461 | val_0_pr_auc: 0.40228 |  0:47:07s\n",
            "epoch 10 | loss: 0.01416 | val_0_pr_auc: 0.40811 |  0:51:57s\n",
            "epoch 11 | loss: 0.01379 | val_0_pr_auc: 0.42115 |  0:56:49s\n",
            "epoch 12 | loss: 0.01368 | val_0_pr_auc: 0.41537 |  1:01:38s\n",
            "epoch 13 | loss: 0.01361 | val_0_pr_auc: 0.40553 |  1:06:29s\n",
            "epoch 14 | loss: 0.01255 | val_0_pr_auc: 0.40935 |  1:11:19s\n",
            "epoch 15 | loss: 0.01267 | val_0_pr_auc: 0.38014 |  1:16:09s\n",
            "epoch 16 | loss: 0.01203 | val_0_pr_auc: 0.41606 |  1:20:59s\n",
            "\n",
            "Early stopping occurred at epoch 16 with best_epoch = 11 and best_val_0_pr_auc = 0.42115\n",
            "Successfully saved model at best_tabnet_model.zip\n"
          ]
        },
        {
          "output_type": "stream",
          "name": "stderr",
          "text": [
            "/usr/local/lib/python3.11/dist-packages/pytorch_tabnet/callbacks.py:172: UserWarning: Best weights from best epoch are automatically used!\n",
            "  warnings.warn(wrn_msg)\n"
          ]
        },
        {
          "output_type": "display_data",
          "data": {
            "text/plain": [
              "<IPython.core.display.Javascript object>"
            ],
            "application/javascript": [
              "\n",
              "    async function download(id, filename, size) {\n",
              "      if (!google.colab.kernel.accessAllowed) {\n",
              "        return;\n",
              "      }\n",
              "      const div = document.createElement('div');\n",
              "      const label = document.createElement('label');\n",
              "      label.textContent = `Downloading \"${filename}\": `;\n",
              "      div.appendChild(label);\n",
              "      const progress = document.createElement('progress');\n",
              "      progress.max = size;\n",
              "      div.appendChild(progress);\n",
              "      document.body.appendChild(div);\n",
              "\n",
              "      const buffers = [];\n",
              "      let downloaded = 0;\n",
              "\n",
              "      const channel = await google.colab.kernel.comms.open(id);\n",
              "      // Send a message to notify the kernel that we're ready.\n",
              "      channel.send({})\n",
              "\n",
              "      for await (const message of channel.messages) {\n",
              "        // Send a message to notify the kernel that we're ready.\n",
              "        channel.send({})\n",
              "        if (message.buffers) {\n",
              "          for (const buffer of message.buffers) {\n",
              "            buffers.push(buffer);\n",
              "            downloaded += buffer.byteLength;\n",
              "            progress.value = downloaded;\n",
              "          }\n",
              "        }\n",
              "      }\n",
              "      const blob = new Blob(buffers, {type: 'application/binary'});\n",
              "      const a = document.createElement('a');\n",
              "      a.href = window.URL.createObjectURL(blob);\n",
              "      a.download = filename;\n",
              "      div.appendChild(a);\n",
              "      a.click();\n",
              "      div.remove();\n",
              "    }\n",
              "  "
            ]
          },
          "metadata": {}
        },
        {
          "output_type": "display_data",
          "data": {
            "text/plain": [
              "<IPython.core.display.Javascript object>"
            ],
            "application/javascript": [
              "download(\"download_a7157552-86b0-427c-878b-bd661c9724a5\", \"best_tabnet_model.zip\", 437573)"
            ]
          },
          "metadata": {}
        }
      ],
      "source": [
        "best_params = study.best_params  # Get the best hyperparameters\n",
        "\n",
        "# Train TabNet with the best hyperparameters\n",
        "best_tabnet_model = TabNetClassifier(\n",
        "    n_d=best_params[\"n_d\"],\n",
        "    n_a=best_params[\"n_a\"],\n",
        "    n_steps=best_params[\"n_steps\"],\n",
        "    gamma=best_params[\"gamma\"],\n",
        "    lambda_sparse=best_params[\"lambda_sparse\"],\n",
        "    optimizer_fn=torch.optim.Adam,\n",
        "    optimizer_params=dict(lr=best_params[\"lr\"]),\n",
        "    mask_type=\"sparsemax\",\n",
        "    verbose=1\n",
        ")\n",
        "\n",
        "best_tabnet_model.fit(\n",
        "    X_resampled.values, y_resampled.values,\n",
        "    eval_set=[(X_test.values, y_test.values)],\n",
        "    eval_metric=[PRAUCMetric],\n",
        "    max_epochs=20,\n",
        "    patience=5,\n",
        "    batch_size=best_params[\"batch_size\"],\n",
        "    virtual_batch_size=128,\n",
        "    weights=class_weight_dict,\n",
        "    compute_importance=False\n",
        ")\n",
        "\n",
        "# Save the best model\n",
        "best_tabnet_model.save_model(\"best_tabnet_model\")\n",
        "files.download(\"best_tabnet_model.zip\")\n"
      ]
    },
    {
      "cell_type": "code",
      "execution_count": 16,
      "metadata": {
        "id": "omLIJ_sHYYHL",
        "colab": {
          "base_uri": "https://localhost:8080/",
          "height": 720
        },
        "outputId": "4d0bebb6-1f34-4a1b-a804-221df4aa2a90"
      },
      "outputs": [
        {
          "output_type": "stream",
          "name": "stdout",
          "text": [
            "              precision    recall  f1-score   support\n",
            "\n",
            "           0       1.00      1.00      1.00   1780327\n",
            "           1       0.20      0.54      0.29      2666\n",
            "\n",
            "    accuracy                           1.00   1782993\n",
            "   macro avg       0.60      0.77      0.64   1782993\n",
            "weighted avg       1.00      1.00      1.00   1782993\n",
            "\n"
          ]
        },
        {
          "output_type": "display_data",
          "data": {
            "text/plain": [
              "<Figure size 800x600 with 1 Axes>"
            ],
            "image/png": "[encoded data removed]"
          },
          "metadata": {}
        }
      ],
      "source": [
        "# Use the trained model for predictions\n",
        "threshold = 0.5\n",
        "y_pred_proba = best_tabnet_model.predict_proba(X_test.values)[:, 1]\n",
        "y_pred = (y_pred_proba > threshold).astype(int)\n",
        "\n",
        "# Generate the classification report\n",
        "print(classification_report(y_test.values, y_pred))\n",
        "\n",
        "# Compute precision-recall curve\n",
        "precision, recall, thresholds = precision_recall_curve(y_test, y_pred_proba)\n",
        "\n",
        "# Plot precision-recall curve\n",
        "plt.figure(figsize=(8, 6))\n",
        "plt.plot(recall, precision, color='blue', lw=2)\n",
        "plt.xlabel('Recall')\n",
        "plt.ylabel('Precision')\n",
        "plt.title('Precision-Recall Curve')\n",
        "plt.show()"
      ]
    }
  ],
  "metadata": {
    "accelerator": "GPU",
    "colab": {
      "gpuType": "T4",
      "machine_shape": "hm",
      "provenance": []
    },
    "kernelspec": {
      "display_name": "Python 3",
      "name": "python3"
    },
    "language_info": {
      "codemirror_mode": {
        "name": "ipython",
        "version": 3
      },
      "file_extension": ".py",
      "mimetype": "text/x-python",
      "name": "python",
      "nbconvert_exporter": "python",
      "pygments_lexer": "ipython3",
      "version": "3.12.3"
    }
  },
  "nbformat": 4,
  "nbformat_minor": 0
}